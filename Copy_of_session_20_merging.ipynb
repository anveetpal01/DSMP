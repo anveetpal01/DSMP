{
  "nbformat": 4,
  "nbformat_minor": 0,
  "metadata": {
    "colab": {
      "provenance": []
    },
    "kernelspec": {
      "name": "python3",
      "display_name": "Python 3"
    },
    "language_info": {
      "name": "python"
    }
  },
  "cells": [
    {
      "cell_type": "code",
      "execution_count": null,
      "metadata": {
        "id": "a5Z8pAwoVxoP"
      },
      "outputs": [],
      "source": [
        "import pandas as pd\n",
        "import numpy as np"
      ]
    },
    {
      "cell_type": "code",
      "source": [
        "courses = pd.read_csv('/content/courses.csv')\n",
        "students = pd.read_csv('/content/students.csv')\n",
        "nov = pd.read_csv('/content/reg-month1.csv')\n",
        "dec = pd.read_csv('/content/reg-month2.csv')\n",
        "\n",
        "matches = pd.read_csv('/content/matches.csv')\n",
        "delivery = pd.read_csv('/content/deliveries (1).csv')"
      ],
      "metadata": {
        "id": "ziYWX2MFJb6x"
      },
      "execution_count": null,
      "outputs": []
    },
    {
      "cell_type": "code",
      "source": [
        "delivery"
      ],
      "metadata": {
        "id": "nF2pPvBQHOzk"
      },
      "execution_count": null,
      "outputs": []
    },
    {
      "cell_type": "markdown",
      "source": [
        "##CONCAT METHOD"
      ],
      "metadata": {
        "id": "PbyQOGsNOe8J"
      }
    },
    {
      "cell_type": "code",
      "source": [
        "# pd.concat     add two or more dataframe and makes it one dataframe joins ek ke baad ek manner me\n",
        "# df.concat\n",
        "# ignore_index\n",
        "# df.append\n",
        "# mullitindex -> fetch using iloc\n",
        "# concat dataframes horizontally\n",
        "\n",
        "registration = pd.concat([nov,dec],ignore_index=True)   #it added the second dataframe with the first in a continous manner\n",
        "\n",
        "multi = pd.concat([nov,dec],keys=['nov','dec'])   # it is a multi-index dataframe\n",
        "multi.loc['dec',0]   # accesing the specific dataframe\n",
        "\n",
        "\n",
        "pd.concat([nov,dec],axis = 1)   # the dataframe is concatenated row wise (ek dataframe ke side me dusra dataframe axis=1 se)"
      ],
      "metadata": {
        "id": "TXh8WSR1JkpL"
      },
      "execution_count": null,
      "outputs": []
    },
    {
      "cell_type": "markdown",
      "source": [
        "##JOIN METHOD"
      ],
      "metadata": {
        "id": "VtAdTDZjOV75"
      }
    },
    {
      "cell_type": "code",
      "source": [
        "#join -> it joins the dataframe on the basis of a single common column\n",
        "# there are four types of join -> left, right, outer, inner\n",
        "\n",
        "\n",
        "# inner join\n",
        "# sirf common students aayenge jo dono dataframe me common hai\n",
        "#it gives the value which are common in both of the dataframes not giving any extra values\n",
        "students.merge(registration,how='inner',on='student_id')  # getting the names of all the students\n"
      ],
      "metadata": {
        "id": "8oRzmVKEAPJL"
      },
      "execution_count": null,
      "outputs": []
    },
    {
      "cell_type": "code",
      "source": [
        "#left join -> combines not only common col's value but also those values which are present in the left col\n",
        "#ps: here the left col is courses\n",
        "courses.merge(registration,how='left',on='course_id')\n"
      ],
      "metadata": {
        "id": "dWAieHKBAPFj"
      },
      "execution_count": null,
      "outputs": []
    },
    {
      "cell_type": "code",
      "source": [
        "# right join\n",
        "'''In the right join the data values of the right side dataframe is merging along with the left dataframe even it is null or empty value'''\n",
        "\n",
        "\n",
        "# making a temporary dataframe with no courses and concatenate it with students dataframe\n",
        "'''\n",
        "temp_df = pd.DataFrame({\n",
        "    'student_id':[26,27,28],\n",
        "    'name':['Nitish','Ankit','Rahul'],\n",
        "    'partner':[28,26,17]\n",
        "})\n",
        "\n",
        "students = pd.concat([students,temp_df],ignore_index=True)\n",
        "'''\n",
        "students.merge(registration,how='right',on='student_id')\n",
        "#students.merge(registration,how='left',on='student_id')"
      ],
      "metadata": {
        "id": "CoqbNcPSAPCD"
      },
      "execution_count": null,
      "outputs": []
    },
    {
      "cell_type": "code",
      "source": [
        "# outer join\n",
        "#it shows all the data values of both the dataframes even it is null or empty\n",
        "\n",
        "students.merge(registration,how='outer',on='student_id').tail(10)"
      ],
      "metadata": {
        "id": "nxrWokxUAO_K"
      },
      "execution_count": null,
      "outputs": []
    },
    {
      "cell_type": "markdown",
      "source": [
        "##PRACTICE QUESTINOS"
      ],
      "metadata": {
        "id": "1YlX4xtWuGJI"
      }
    },
    {
      "cell_type": "code",
      "source": [
        "# ques 1 -> Total revenue generated by the company\n",
        "'''join registration wala table with course table on the basis of course_id wala col and do inner join'''\n",
        "\n",
        "registration.merge(courses,how='inner',on='course_id')['price'].sum()"
      ],
      "metadata": {
        "id": "p0w_uX6TAO7p"
      },
      "execution_count": null,
      "outputs": []
    },
    {
      "cell_type": "code",
      "source": [
        "# ques 2 -> find month by month revenue\n",
        "'''concat nov and dec months and remove its seperation index by reset_index() then store it in a variable 'temp'and after, merge temp with courses with course_id and make a group on level_0 wich has months nov or dec and then sum it '''\n",
        "temp = pd.concat([nov,dec],keys=['nov','dec']).reset_index()\n",
        "temp.merge(courses,on='course_id').groupby('level_0')['price'].sum()"
      ],
      "metadata": {
        "id": "nFbiRsERAO4k"
      },
      "execution_count": null,
      "outputs": []
    },
    {
      "cell_type": "code",
      "source": [
        "# ques 3 -> Print the registration table with\n",
        "# columns = name,course,price\n",
        "'''here we have join three tables to print this columns\n",
        "to join three table we do two merges for four table we do 3 merges '''\n",
        "\n",
        "registration.merge(students,on='student_id').merge(courses,on='course_id')[['name','course_name','price']]"
      ],
      "metadata": {
        "id": "Xy4Z7HHsAO1Q"
      },
      "execution_count": null,
      "outputs": []
    },
    {
      "cell_type": "code",
      "source": [
        "# ques 4 -> Plot bar chart for revenue/course\n",
        "'''we have to make a bar of kitne coure ne kitna earn kiya'''\n",
        "\n",
        "registration.merge(courses,on='course_id').groupby('course_name')['price'].sum().plot(kind='bar')"
      ],
      "metadata": {
        "id": "cii3qEGSAOlv"
      },
      "execution_count": null,
      "outputs": []
    },
    {
      "cell_type": "code",
      "source": [
        "# ques 5 -> find students who enrolled in both the months\n",
        "'''enrolled student_id of both months and intersection operation in both'''\n",
        "common_student_id = np.intersect1d(nov['student_id'],dec['student_id'])\n",
        "common_student_id\n",
        "\n",
        "students[students['student_id'].isin(common_student_id)]"
      ],
      "metadata": {
        "id": "iEtiDKcjAOyI"
      },
      "execution_count": null,
      "outputs": []
    },
    {
      "cell_type": "code",
      "source": [
        "# ques 6 -> find course that got no enrollments\n",
        "'''we have to find the course where no students enrolled, we have to find the courses which is in courses but not in registration'''\n",
        "course_id_list = np.setdiff1d(courses['course_id'],registration['course_id'])\n",
        "courses[courses['course_id'].isin(course_id_list)]"
      ],
      "metadata": {
        "id": "ypp0f7IFAOuu"
      },
      "execution_count": null,
      "outputs": []
    },
    {
      "cell_type": "code",
      "source": [
        "# ques 7 -> find students who did not enroll into any courses\n",
        "\n",
        "'''those students who isin students table but not in registratino table'''\n",
        "stu_id_list = np.setdiff1d(students['student_id'],registration['student_id'])\n",
        "(students[students['student_id'].isin(stu_id_list)].shape[0]/28)*100\n"
      ],
      "metadata": {
        "id": "qYpTkhmsAOpS"
      },
      "execution_count": null,
      "outputs": []
    },
    {
      "cell_type": "code",
      "source": [
        "students"
      ],
      "metadata": {
        "id": "S6mSrh76sXwa"
      },
      "execution_count": null,
      "outputs": []
    },
    {
      "cell_type": "code",
      "source": [
        "# ques 8 -> print the student name and its partner name along side\n",
        "'''here we use self join where we join a table with itself'''\n",
        "\n",
        "students.merge(students,how='inner',left_on='partner',right_on='student_id')[['name_y','name_x']]"
      ],
      "metadata": {
        "id": "NFPz469tAOXB"
      },
      "execution_count": null,
      "outputs": []
    },
    {
      "cell_type": "code",
      "source": [
        "# 9. find top 3 students who did most number enrollments\n",
        "regs.merge(students,on='student_id').groupby(['student_id','name'])['name'].count().sort_values(ascending=False).head(3)"
      ],
      "metadata": {
        "id": "O-JS7P55fypl"
      },
      "execution_count": null,
      "outputs": []
    },
    {
      "cell_type": "code",
      "source": [
        "# 10. find top 3 students who spent most amount of money on courses\n",
        "regs.merge(students,on='student_id').merge(courses,on='course_id').groupby(['student_id','name'])['price'].sum().sort_values(ascending=False).head(3)"
      ],
      "metadata": {
        "id": "sKF8FTKYf54W"
      },
      "execution_count": null,
      "outputs": []
    },
    {
      "cell_type": "code",
      "source": [
        "# Alternate syntax for merge\n",
        "# students.merge(regs)\n",
        "\n",
        "pd.merge(students,regs,how='inner',on='student_id')"
      ],
      "metadata": {
        "id": "GIrMQGYtkTDR"
      },
      "execution_count": null,
      "outputs": []
    },
    {
      "cell_type": "code",
      "source": [
        "# IPL Problems\n",
        "\n",
        "# find top 3 studiums with highest sixes/match ratio\n",
        "# find orange cap holder of all the seasons"
      ],
      "metadata": {
        "id": "Npm6witrwRma"
      },
      "execution_count": null,
      "outputs": []
    },
    {
      "cell_type": "code",
      "source": [
        "matches"
      ],
      "metadata": {
        "id": "olAdXV5afPxk"
      },
      "execution_count": null,
      "outputs": []
    },
    {
      "cell_type": "code",
      "source": [
        "delivery"
      ],
      "metadata": {
        "id": "J0XxLdx8fR8e"
      },
      "execution_count": null,
      "outputs": []
    },
    {
      "cell_type": "code",
      "source": [
        "temp_df = delivery.merge(matches,left_on='match_id',right_on='id')"
      ],
      "metadata": {
        "id": "Zu-YE4hyffmh"
      },
      "execution_count": null,
      "outputs": []
    },
    {
      "cell_type": "code",
      "source": [
        "six_df = temp_df[temp_df['batsman_runs'] == 6]"
      ],
      "metadata": {
        "id": "4mFOoX38f544"
      },
      "execution_count": null,
      "outputs": []
    },
    {
      "cell_type": "code",
      "source": [
        "# stadium -> sixes\n",
        "num_sixes = six_df.groupby('venue')['venue'].count()"
      ],
      "metadata": {
        "id": "XVIRt7zhgJNu"
      },
      "execution_count": null,
      "outputs": []
    },
    {
      "cell_type": "code",
      "source": [
        "num_matches = matches['venue'].value_counts()"
      ],
      "metadata": {
        "id": "wbf6GaoOgabj"
      },
      "execution_count": null,
      "outputs": []
    },
    {
      "cell_type": "code",
      "source": [
        "(num_sixes/num_matches).sort_values(ascending=False).head(10)"
      ],
      "metadata": {
        "id": "jjtLh958gsCi"
      },
      "execution_count": null,
      "outputs": []
    },
    {
      "cell_type": "code",
      "source": [
        "matches"
      ],
      "metadata": {
        "id": "fD8fQBhVhCFa"
      },
      "execution_count": null,
      "outputs": []
    },
    {
      "cell_type": "code",
      "source": [
        "temp_df.groupby(['season','batsman'])['batsman_runs'].sum().reset_index().sort_values('batsman_runs',ascending=False).drop_duplicates(subset=['season'],keep='first').sort_values('season')"
      ],
      "metadata": {
        "id": "vu4ljaALh0bZ"
      },
      "execution_count": null,
      "outputs": []
    },
    {
      "cell_type": "code",
      "source": [
        "temp_df.groupby(['season','batsman'])['batsman_runs'].sum().reset_index().sort_values('batsman_runs',ascending=False)"
      ],
      "metadata": {
        "id": "RFtVlkALh8Jo"
      },
      "execution_count": null,
      "outputs": []
    }
  ]
}