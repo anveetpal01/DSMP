{
  "nbformat": 4,
  "nbformat_minor": 0,
  "metadata": {
    "colab": {
      "provenance": []
    },
    "kernelspec": {
      "name": "python3",
      "display_name": "Python 3"
    },
    "language_info": {
      "name": "python"
    }
  },
  "cells": [
    {
      "cell_type": "code",
      "execution_count": 1,
      "metadata": {
        "id": "2F2xS5YbuND2"
      },
      "outputs": [],
      "source": [
        "import numpy as np\n",
        "import pandas as pd"
      ]
    },
    {
      "cell_type": "code",
      "source": [
        "movies = pd.read_csv('/content/movies.csv')\n",
        "ipl = pd.read_csv('/content/ipl-matches.csv')"
      ],
      "metadata": {
        "id": "hwenhVnNSLWO"
      },
      "execution_count": 119,
      "outputs": []
    },
    {
      "cell_type": "markdown",
      "source": [
        "## Creating DataFrame and dataframe basic operations"
      ],
      "metadata": {
        "id": "sdRBNhTluaKV"
      }
    },
    {
      "cell_type": "code",
      "source": [
        "# using lists\n",
        "student_data = [\n",
        "    [100,80,10,10],\n",
        "    [90,70,7,70],\n",
        "    [120,100,14,100],\n",
        "    [80,50,2,7]\n",
        "]\n",
        "\n",
        "pd.DataFrame(student_data,columns=['iq','marks','credits','package']).duplicated()"
      ],
      "metadata": {
        "id": "FAC5HfAaub7q",
        "colab": {
          "base_uri": "https://localhost:8080/"
        },
        "outputId": "92c985ca-0a15-4d02-9a70-f29ba71d61fa"
      },
      "execution_count": 35,
      "outputs": [
        {
          "output_type": "execute_result",
          "data": {
            "text/plain": [
              "0    False\n",
              "1    False\n",
              "2    False\n",
              "3    False\n",
              "dtype: bool"
            ]
          },
          "metadata": {},
          "execution_count": 35
        }
      ]
    },
    {
      "cell_type": "code",
      "source": [
        "student_dict = {\n",
        "    'name':['A','B','C','D','E'],\n",
        "    'iq':[100,99,50,80,60],\n",
        "    'marks':[80,70,80,90,100],\n",
        "    'package':[10,7,8,6,8]\n",
        "}\n",
        "students = pd.DataFrame(student_dict)\n",
        "students.set_index('name',inplace=True)\n"
      ],
      "metadata": {
        "id": "dDeIiMeTSLY0"
      },
      "execution_count": 27,
      "outputs": []
    },
    {
      "cell_type": "code",
      "source": [
        "# SOME DATAFRAME FUNCTIONS OR ATTRIBUTES\n",
        "\n",
        "\n",
        "\n",
        "'''\n",
        "MUST APPLY METHODS ON A DATAFRAME OR DATASET\n",
        "\n",
        "ipl.shape\n",
        "\n",
        "movies.dtypes\n",
        "\n",
        "movies.index\n",
        "ipl.index\n",
        "\n",
        "ipl.columns\n",
        "\n",
        "movies.head(2)\n",
        "\n",
        "ipl.tail()\n",
        "\n",
        "ipl.sample(5)\n",
        "\n",
        "movies.info()\n",
        "\n",
        "ipl.info()\n",
        "'''\n",
        "#ipl.describe()\n",
        "#movies.describe()\n",
        "\n",
        "#ipl.isnull()\n",
        "\n",
        "#movies.duplicated().sum()\n",
        "#students.duplicated().sum()\n",
        "\n",
        "#students.rename(columns={'marks':'percent','package':'lpa'},inplace=True)\n",
        "#students\n",
        "\n",
        "#students.columns"
      ],
      "metadata": {
        "id": "McAfWEEESLT9",
        "outputId": "a6484836-6a42-4044-83c8-68e437cf1057",
        "colab": {
          "base_uri": "https://localhost:8080/"
        }
      },
      "execution_count": null,
      "outputs": [
        {
          "output_type": "execute_result",
          "data": {
            "text/plain": [
              "Index(['iq', 'percent', 'lpa'], dtype='object')"
            ]
          },
          "metadata": {},
          "execution_count": 53
        }
      ]
    },
    {
      "cell_type": "code",
      "source": [
        "# SELECTING COLUMNS FROM DATAFRAME\n",
        "\n",
        "#type(movies['title_x'])\n",
        "\n",
        "#movies[['original_title','genres','actors']]\n",
        "\n",
        "ipl[['Team1','Team2','WinningTeam']]"
      ],
      "metadata": {
        "id": "Vqz2MNC0SLRH"
      },
      "execution_count": null,
      "outputs": []
    },
    {
      "cell_type": "code",
      "source": [
        "# SELECTING ROWS and COLUMNS FROM A DATAFRAME\n",
        "\n",
        "'''\n",
        "FETCHING ROWS\n",
        "\n",
        "movies.iloc[0]  # it gives series\n",
        "\n",
        "movies.iloc[0:5]   # gives dataframe\n",
        "\n",
        "movies.iloc[0:10:2]  # ek ke baad ek print karega 1 row chhod ke\n",
        "\n",
        "movies.iloc[[0,2,4,5]]  # fancy indexing\n",
        "\n",
        "students.loc['A']  # gives A's detail info\n",
        "\n",
        "students.loc['A':'E']  # gives A to E dataframe\n",
        "\n",
        "\n",
        "Their are two types by which we can fetch ROWS from the DATAFRAME\n",
        "iloc -> works on index position (which is always available)\n",
        "loc -> works on index lable (which is not always available)\n",
        "'''\n",
        "\n",
        "\n",
        "# FETCHING ROWS AND COLUMN\n",
        "\n",
        "movies.iloc[0:5,0:3] # here we have to provide the index position\n",
        "\n",
        "movies.loc[0:2,'title_x':'poster_path'] # in loc we have to provide the name of the index\n",
        "\n",
        "'whenever we create a dataframe internally a column is create from 0 automatically by pandas'\n",
        "\n"
      ],
      "metadata": {
        "id": "9YJgNKBMSLM_",
        "colab": {
          "base_uri": "https://localhost:8080/",
          "height": 0
        },
        "outputId": "67861a23-c05e-4e12-e79a-54daedf27c68"
      },
      "execution_count": 49,
      "outputs": [
        {
          "output_type": "execute_result",
          "data": {
            "text/plain": [
              "'whenever we create a dataframe internally a column is create from 0 automatically by pandas'"
            ],
            "application/vnd.google.colaboratory.intrinsic+json": {
              "type": "string"
            }
          },
          "metadata": {},
          "execution_count": 49
        }
      ]
    },
    {
      "cell_type": "markdown",
      "source": [
        "## **Filtering a dataframe**\n",
        "\n",
        "\n"
      ],
      "metadata": {
        "id": "5U6Cwk3PbzTh"
      }
    },
    {
      "cell_type": "code",
      "source": [
        "# season of match and name of winning teams\n",
        "finals = ipl['MatchNumber'] == 'Final'\n",
        "newdf = ipl[finals]\n",
        "newdf[['Season','WinningTeam']]\n",
        "#OR\n",
        "ipl[ipl['MatchNumber'] == 'Final'][['Season','WinningTeam']]\n",
        "\n",
        "\n",
        "# How many super over held\n",
        "ipl[ipl['SuperOver']=='Y'].shape[0]  # here the boolean indexing is occured ipl['SuperOver']=='Y'\n",
        "\n",
        "\n",
        "#how many matches has csk won in kolkata\n",
        "ipl[(ipl['City'] == 'Kolkata') & (ipl['WinningTeam'] == 'Chennai Super Kings')].shape[0] # here (ipl['City'] == 'Kolkata')  and (ipl['WinningTeam'] == 'Chennai Super Kings') is boolean indexing which return boolen dtype thats whe we used '&' here\n",
        "\n",
        "\n",
        "# toss winner is match winner in percetage\n",
        "ipl[ipl['TossWinner'] == ipl['WinningTeam']].shape[0]/ipl.shape[0]*100\n",
        "\n",
        "\n",
        "# Movies with rating higher than 8 and vote count is >10000\n",
        "movies[(movies['imdb_rating'] > 8) & (movies['imdb_votes'] > 10000)].shape[0]\n",
        "\n",
        "\n",
        "# Action movies with rating higher than 7.5\n",
        "actgenre = movies['genres'].str.split('|').apply(lambda x:'Action' in x) # here the .str is for converting series to string dtype so that we can apply .split() to it\n",
        "#OR\n",
        "actgenre = movies['genres'].str.contains('Action')\n",
        "rating = movies['imdb_rating'] > 7.5\n",
        "movies[actgenre & rating]"
      ],
      "metadata": {
        "id": "BKyijWOaSLF9"
      },
      "execution_count": null,
      "outputs": []
    },
    {
      "cell_type": "markdown",
      "source": [
        "## **Adding new column in a dataframe**"
      ],
      "metadata": {
        "id": "-TxpktZRnSkX"
      }
    },
    {
      "cell_type": "code",
      "source": [
        "#creating a new column name india in the last where all rows assigned a new value india\n",
        "movies['Country'] = 'India'\n",
        "movies\n",
        "\n",
        "# creating a new coloumn with existing column for lead actor\n",
        "movies.dropna(inplace=True)\n",
        "movies['lead actor'] = movies['actors'].str.split().apply(lambda x:x[0])\n",
        "movies[['title_x','lead actor']]"
      ],
      "metadata": {
        "id": "QF3uPtxfSLAg"
      },
      "execution_count": null,
      "outputs": []
    },
    {
      "cell_type": "code",
      "source": [
        "ipl.info()"
      ],
      "metadata": {
        "colab": {
          "base_uri": "https://localhost:8080/"
        },
        "id": "LIm6PbEasE2f",
        "outputId": "4ea1e666-001d-4a24-f9cc-6b7bd4e28de6"
      },
      "execution_count": 117,
      "outputs": [
        {
          "output_type": "stream",
          "name": "stdout",
          "text": [
            "<class 'pandas.core.frame.DataFrame'>\n",
            "RangeIndex: 950 entries, 0 to 949\n",
            "Data columns (total 20 columns):\n",
            " #   Column           Non-Null Count  Dtype  \n",
            "---  ------           --------------  -----  \n",
            " 0   ID               950 non-null    int64  \n",
            " 1   City             899 non-null    object \n",
            " 2   Date             950 non-null    object \n",
            " 3   Season           950 non-null    object \n",
            " 4   MatchNumber      950 non-null    object \n",
            " 5   Team1            950 non-null    object \n",
            " 6   Team2            950 non-null    object \n",
            " 7   Venue            950 non-null    object \n",
            " 8   TossWinner       950 non-null    object \n",
            " 9   TossDecision     950 non-null    object \n",
            " 10  SuperOver        946 non-null    object \n",
            " 11  WinningTeam      946 non-null    object \n",
            " 12  WonBy            950 non-null    object \n",
            " 13  Margin           932 non-null    float64\n",
            " 14  method           19 non-null     object \n",
            " 15  Player_of_Match  946 non-null    object \n",
            " 16  Team1Players     950 non-null    object \n",
            " 17  Team2Players     950 non-null    object \n",
            " 18  Umpire1          950 non-null    object \n",
            " 19  Umpire2          950 non-null    object \n",
            "dtypes: float64(1), int64(1), object(18)\n",
            "memory usage: 148.6+ KB\n"
          ]
        }
      ]
    },
    {
      "cell_type": "code",
      "source": [
        "# astype -> it changes the datatype of the given column\n",
        "#movies.info()\n",
        "ipl['ID'] = ipl['ID'].astype('int32')\n",
        "ipl['ID'].size\n",
        "\n",
        "ipl['Season'] = ipl['Season'].astype('category')\n",
        "ipl['Team1'] = ipl['Team1'].astype('category')\n",
        "ipl['Team2'] = ipl['Team2'].astype('category')\n",
        "ipl.info()\n"
      ],
      "metadata": {
        "id": "UOhDLzz-SK94",
        "colab": {
          "base_uri": "https://localhost:8080/"
        },
        "outputId": "a0ad1b24-ae2b-4eab-8f5a-ec1566756340"
      },
      "execution_count": 120,
      "outputs": [
        {
          "output_type": "stream",
          "name": "stdout",
          "text": [
            "<class 'pandas.core.frame.DataFrame'>\n",
            "RangeIndex: 950 entries, 0 to 949\n",
            "Data columns (total 20 columns):\n",
            " #   Column           Non-Null Count  Dtype   \n",
            "---  ------           --------------  -----   \n",
            " 0   ID               950 non-null    int32   \n",
            " 1   City             899 non-null    object  \n",
            " 2   Date             950 non-null    object  \n",
            " 3   Season           950 non-null    category\n",
            " 4   MatchNumber      950 non-null    object  \n",
            " 5   Team1            950 non-null    category\n",
            " 6   Team2            950 non-null    category\n",
            " 7   Venue            950 non-null    object  \n",
            " 8   TossWinner       950 non-null    object  \n",
            " 9   TossDecision     950 non-null    object  \n",
            " 10  SuperOver        946 non-null    object  \n",
            " 11  WinningTeam      946 non-null    object  \n",
            " 12  WonBy            950 non-null    object  \n",
            " 13  Margin           932 non-null    float64 \n",
            " 14  method           19 non-null     object  \n",
            " 15  Player_of_Match  946 non-null    object  \n",
            " 16  Team1Players     950 non-null    object  \n",
            " 17  Team2Players     950 non-null    object  \n",
            " 18  Umpire1          950 non-null    object  \n",
            " 19  Umpire2          950 non-null    object  \n",
            "dtypes: category(3), float64(1), int32(1), object(15)\n",
            "memory usage: 127.4+ KB\n"
          ]
        }
      ]
    },
    {
      "cell_type": "code",
      "source": [],
      "metadata": {
        "id": "EhkAR3wCSK7k"
      },
      "execution_count": null,
      "outputs": []
    },
    {
      "cell_type": "code",
      "source": [],
      "metadata": {
        "id": "qEuRJZpXSK5F"
      },
      "execution_count": null,
      "outputs": []
    },
    {
      "cell_type": "code",
      "source": [],
      "metadata": {
        "id": "MbiXqY1kSK1z"
      },
      "execution_count": null,
      "outputs": []
    },
    {
      "cell_type": "code",
      "source": [],
      "metadata": {
        "id": "9Dob6iJeSKyZ"
      },
      "execution_count": null,
      "outputs": []
    },
    {
      "cell_type": "code",
      "source": [],
      "metadata": {
        "id": "7f21VQE6SKuL"
      },
      "execution_count": null,
      "outputs": []
    },
    {
      "cell_type": "code",
      "source": [],
      "metadata": {
        "id": "da3KSuRGSKq1"
      },
      "execution_count": null,
      "outputs": []
    },
    {
      "cell_type": "code",
      "source": [],
      "metadata": {
        "id": "vYX7g3j6SKne"
      },
      "execution_count": null,
      "outputs": []
    },
    {
      "cell_type": "code",
      "source": [],
      "metadata": {
        "id": "E1ArHw7ZSKkF"
      },
      "execution_count": null,
      "outputs": []
    },
    {
      "cell_type": "code",
      "source": [],
      "metadata": {
        "id": "Bwdch1ozSKf8"
      },
      "execution_count": null,
      "outputs": []
    },
    {
      "cell_type": "code",
      "source": [],
      "metadata": {
        "id": "IWxqUT_xSKcl"
      },
      "execution_count": null,
      "outputs": []
    },
    {
      "cell_type": "code",
      "source": [],
      "metadata": {
        "id": "Qq4NXOf5SKZZ"
      },
      "execution_count": null,
      "outputs": []
    },
    {
      "cell_type": "code",
      "source": [],
      "metadata": {
        "id": "RTOj-0-uSKVr"
      },
      "execution_count": null,
      "outputs": []
    },
    {
      "cell_type": "code",
      "source": [],
      "metadata": {
        "id": "gqIy-OFuSKSa"
      },
      "execution_count": null,
      "outputs": []
    },
    {
      "cell_type": "code",
      "source": [],
      "metadata": {
        "id": "15JYaX58SKO9"
      },
      "execution_count": null,
      "outputs": []
    },
    {
      "cell_type": "code",
      "source": [],
      "metadata": {
        "id": "EVMzMXoFSKLg"
      },
      "execution_count": null,
      "outputs": []
    },
    {
      "cell_type": "code",
      "source": [],
      "metadata": {
        "id": "GG0h4VU0SKIP"
      },
      "execution_count": null,
      "outputs": []
    },
    {
      "cell_type": "code",
      "source": [],
      "metadata": {
        "id": "NK3n-st1SKEk"
      },
      "execution_count": null,
      "outputs": []
    },
    {
      "cell_type": "code",
      "source": [],
      "metadata": {
        "id": "Q-_fZIUzSKBL"
      },
      "execution_count": null,
      "outputs": []
    },
    {
      "cell_type": "code",
      "source": [],
      "metadata": {
        "id": "NUD4d8H_SJ9f"
      },
      "execution_count": null,
      "outputs": []
    }
  ]
}