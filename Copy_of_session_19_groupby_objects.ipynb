{
  "nbformat": 4,
  "nbformat_minor": 0,
  "metadata": {
    "colab": {
      "provenance": []
    },
    "kernelspec": {
      "name": "python3",
      "display_name": "Python 3"
    },
    "language_info": {
      "name": "python"
    }
  },
  "cells": [
    {
      "cell_type": "code",
      "execution_count": 1,
      "metadata": {
        "id": "V-NHpZTWOHT2"
      },
      "outputs": [],
      "source": [
        "import pandas as pd\n",
        "import numpy as np"
      ]
    },
    {
      "cell_type": "code",
      "source": [
        "movies = pd.read_csv('/content/imdb-top-1000.csv')"
      ],
      "metadata": {
        "id": "cchNFTvyOR4r"
      },
      "execution_count": 2,
      "outputs": []
    },
    {
      "cell_type": "code",
      "source": [
        "movies.head()"
      ],
      "metadata": {
        "id": "ymlVO7nFXrlE",
        "colab": {
          "base_uri": "https://localhost:8080/",
          "height": 365
        },
        "outputId": "5a424532-a88e-4ce0-d38f-001502bbeebe"
      },
      "execution_count": 29,
      "outputs": [
        {
          "output_type": "execute_result",
          "data": {
            "text/plain": [
              "               Series_Title Released_Year  Runtime   Genre  IMDB_Rating  \\\n",
              "0  The Shawshank Redemption          1994      142   Drama          9.3   \n",
              "1             The Godfather          1972      175   Crime          9.2   \n",
              "2           The Dark Knight          2008      152  Action          9.0   \n",
              "3    The Godfather: Part II          1974      202   Crime          9.0   \n",
              "4              12 Angry Men          1957       96   Crime          9.0   \n",
              "\n",
              "               Director           Star1  No_of_Votes        Gross  Metascore  \n",
              "0        Frank Darabont     Tim Robbins      2343110   28341469.0       80.0  \n",
              "1  Francis Ford Coppola   Marlon Brando      1620367  134966411.0      100.0  \n",
              "2     Christopher Nolan  Christian Bale      2303232  534858444.0       84.0  \n",
              "3  Francis Ford Coppola       Al Pacino      1129952   57300000.0       90.0  \n",
              "4          Sidney Lumet     Henry Fonda       689845    4360000.0       96.0  "
            ],
            "text/html": [
              "\n",
              "  <div id=\"df-9fed28ca-f463-4f80-b2eb-624b5554aa4f\" class=\"colab-df-container\">\n",
              "    <div>\n",
              "<style scoped>\n",
              "    .dataframe tbody tr th:only-of-type {\n",
              "        vertical-align: middle;\n",
              "    }\n",
              "\n",
              "    .dataframe tbody tr th {\n",
              "        vertical-align: top;\n",
              "    }\n",
              "\n",
              "    .dataframe thead th {\n",
              "        text-align: right;\n",
              "    }\n",
              "</style>\n",
              "<table border=\"1\" class=\"dataframe\">\n",
              "  <thead>\n",
              "    <tr style=\"text-align: right;\">\n",
              "      <th></th>\n",
              "      <th>Series_Title</th>\n",
              "      <th>Released_Year</th>\n",
              "      <th>Runtime</th>\n",
              "      <th>Genre</th>\n",
              "      <th>IMDB_Rating</th>\n",
              "      <th>Director</th>\n",
              "      <th>Star1</th>\n",
              "      <th>No_of_Votes</th>\n",
              "      <th>Gross</th>\n",
              "      <th>Metascore</th>\n",
              "    </tr>\n",
              "  </thead>\n",
              "  <tbody>\n",
              "    <tr>\n",
              "      <th>0</th>\n",
              "      <td>The Shawshank Redemption</td>\n",
              "      <td>1994</td>\n",
              "      <td>142</td>\n",
              "      <td>Drama</td>\n",
              "      <td>9.3</td>\n",
              "      <td>Frank Darabont</td>\n",
              "      <td>Tim Robbins</td>\n",
              "      <td>2343110</td>\n",
              "      <td>28341469.0</td>\n",
              "      <td>80.0</td>\n",
              "    </tr>\n",
              "    <tr>\n",
              "      <th>1</th>\n",
              "      <td>The Godfather</td>\n",
              "      <td>1972</td>\n",
              "      <td>175</td>\n",
              "      <td>Crime</td>\n",
              "      <td>9.2</td>\n",
              "      <td>Francis Ford Coppola</td>\n",
              "      <td>Marlon Brando</td>\n",
              "      <td>1620367</td>\n",
              "      <td>134966411.0</td>\n",
              "      <td>100.0</td>\n",
              "    </tr>\n",
              "    <tr>\n",
              "      <th>2</th>\n",
              "      <td>The Dark Knight</td>\n",
              "      <td>2008</td>\n",
              "      <td>152</td>\n",
              "      <td>Action</td>\n",
              "      <td>9.0</td>\n",
              "      <td>Christopher Nolan</td>\n",
              "      <td>Christian Bale</td>\n",
              "      <td>2303232</td>\n",
              "      <td>534858444.0</td>\n",
              "      <td>84.0</td>\n",
              "    </tr>\n",
              "    <tr>\n",
              "      <th>3</th>\n",
              "      <td>The Godfather: Part II</td>\n",
              "      <td>1974</td>\n",
              "      <td>202</td>\n",
              "      <td>Crime</td>\n",
              "      <td>9.0</td>\n",
              "      <td>Francis Ford Coppola</td>\n",
              "      <td>Al Pacino</td>\n",
              "      <td>1129952</td>\n",
              "      <td>57300000.0</td>\n",
              "      <td>90.0</td>\n",
              "    </tr>\n",
              "    <tr>\n",
              "      <th>4</th>\n",
              "      <td>12 Angry Men</td>\n",
              "      <td>1957</td>\n",
              "      <td>96</td>\n",
              "      <td>Crime</td>\n",
              "      <td>9.0</td>\n",
              "      <td>Sidney Lumet</td>\n",
              "      <td>Henry Fonda</td>\n",
              "      <td>689845</td>\n",
              "      <td>4360000.0</td>\n",
              "      <td>96.0</td>\n",
              "    </tr>\n",
              "  </tbody>\n",
              "</table>\n",
              "</div>\n",
              "    <div class=\"colab-df-buttons\">\n",
              "\n",
              "  <div class=\"colab-df-container\">\n",
              "    <button class=\"colab-df-convert\" onclick=\"convertToInteractive('df-9fed28ca-f463-4f80-b2eb-624b5554aa4f')\"\n",
              "            title=\"Convert this dataframe to an interactive table.\"\n",
              "            style=\"display:none;\">\n",
              "\n",
              "  <svg xmlns=\"http://www.w3.org/2000/svg\" height=\"24px\" viewBox=\"0 -960 960 960\">\n",
              "    <path d=\"M120-120v-720h720v720H120Zm60-500h600v-160H180v160Zm220 220h160v-160H400v160Zm0 220h160v-160H400v160ZM180-400h160v-160H180v160Zm440 0h160v-160H620v160ZM180-180h160v-160H180v160Zm440 0h160v-160H620v160Z\"/>\n",
              "  </svg>\n",
              "    </button>\n",
              "\n",
              "  <style>\n",
              "    .colab-df-container {\n",
              "      display:flex;\n",
              "      gap: 12px;\n",
              "    }\n",
              "\n",
              "    .colab-df-convert {\n",
              "      background-color: #E8F0FE;\n",
              "      border: none;\n",
              "      border-radius: 50%;\n",
              "      cursor: pointer;\n",
              "      display: none;\n",
              "      fill: #1967D2;\n",
              "      height: 32px;\n",
              "      padding: 0 0 0 0;\n",
              "      width: 32px;\n",
              "    }\n",
              "\n",
              "    .colab-df-convert:hover {\n",
              "      background-color: #E2EBFA;\n",
              "      box-shadow: 0px 1px 2px rgba(60, 64, 67, 0.3), 0px 1px 3px 1px rgba(60, 64, 67, 0.15);\n",
              "      fill: #174EA6;\n",
              "    }\n",
              "\n",
              "    .colab-df-buttons div {\n",
              "      margin-bottom: 4px;\n",
              "    }\n",
              "\n",
              "    [theme=dark] .colab-df-convert {\n",
              "      background-color: #3B4455;\n",
              "      fill: #D2E3FC;\n",
              "    }\n",
              "\n",
              "    [theme=dark] .colab-df-convert:hover {\n",
              "      background-color: #434B5C;\n",
              "      box-shadow: 0px 1px 3px 1px rgba(0, 0, 0, 0.15);\n",
              "      filter: drop-shadow(0px 1px 2px rgba(0, 0, 0, 0.3));\n",
              "      fill: #FFFFFF;\n",
              "    }\n",
              "  </style>\n",
              "\n",
              "    <script>\n",
              "      const buttonEl =\n",
              "        document.querySelector('#df-9fed28ca-f463-4f80-b2eb-624b5554aa4f button.colab-df-convert');\n",
              "      buttonEl.style.display =\n",
              "        google.colab.kernel.accessAllowed ? 'block' : 'none';\n",
              "\n",
              "      async function convertToInteractive(key) {\n",
              "        const element = document.querySelector('#df-9fed28ca-f463-4f80-b2eb-624b5554aa4f');\n",
              "        const dataTable =\n",
              "          await google.colab.kernel.invokeFunction('convertToInteractive',\n",
              "                                                    [key], {});\n",
              "        if (!dataTable) return;\n",
              "\n",
              "        const docLinkHtml = 'Like what you see? Visit the ' +\n",
              "          '<a target=\"_blank\" href=https://colab.research.google.com/notebooks/data_table.ipynb>data table notebook</a>'\n",
              "          + ' to learn more about interactive tables.';\n",
              "        element.innerHTML = '';\n",
              "        dataTable['output_type'] = 'display_data';\n",
              "        await google.colab.output.renderOutput(dataTable, element);\n",
              "        const docLink = document.createElement('div');\n",
              "        docLink.innerHTML = docLinkHtml;\n",
              "        element.appendChild(docLink);\n",
              "      }\n",
              "    </script>\n",
              "  </div>\n",
              "\n",
              "\n",
              "<div id=\"df-08fbbf5e-7b5f-421f-a8f3-ff079b926c83\">\n",
              "  <button class=\"colab-df-quickchart\" onclick=\"quickchart('df-08fbbf5e-7b5f-421f-a8f3-ff079b926c83')\"\n",
              "            title=\"Suggest charts\"\n",
              "            style=\"display:none;\">\n",
              "\n",
              "<svg xmlns=\"http://www.w3.org/2000/svg\" height=\"24px\"viewBox=\"0 0 24 24\"\n",
              "     width=\"24px\">\n",
              "    <g>\n",
              "        <path d=\"M19 3H5c-1.1 0-2 .9-2 2v14c0 1.1.9 2 2 2h14c1.1 0 2-.9 2-2V5c0-1.1-.9-2-2-2zM9 17H7v-7h2v7zm4 0h-2V7h2v10zm4 0h-2v-4h2v4z\"/>\n",
              "    </g>\n",
              "</svg>\n",
              "  </button>\n",
              "\n",
              "<style>\n",
              "  .colab-df-quickchart {\n",
              "      --bg-color: #E8F0FE;\n",
              "      --fill-color: #1967D2;\n",
              "      --hover-bg-color: #E2EBFA;\n",
              "      --hover-fill-color: #174EA6;\n",
              "      --disabled-fill-color: #AAA;\n",
              "      --disabled-bg-color: #DDD;\n",
              "  }\n",
              "\n",
              "  [theme=dark] .colab-df-quickchart {\n",
              "      --bg-color: #3B4455;\n",
              "      --fill-color: #D2E3FC;\n",
              "      --hover-bg-color: #434B5C;\n",
              "      --hover-fill-color: #FFFFFF;\n",
              "      --disabled-bg-color: #3B4455;\n",
              "      --disabled-fill-color: #666;\n",
              "  }\n",
              "\n",
              "  .colab-df-quickchart {\n",
              "    background-color: var(--bg-color);\n",
              "    border: none;\n",
              "    border-radius: 50%;\n",
              "    cursor: pointer;\n",
              "    display: none;\n",
              "    fill: var(--fill-color);\n",
              "    height: 32px;\n",
              "    padding: 0;\n",
              "    width: 32px;\n",
              "  }\n",
              "\n",
              "  .colab-df-quickchart:hover {\n",
              "    background-color: var(--hover-bg-color);\n",
              "    box-shadow: 0 1px 2px rgba(60, 64, 67, 0.3), 0 1px 3px 1px rgba(60, 64, 67, 0.15);\n",
              "    fill: var(--button-hover-fill-color);\n",
              "  }\n",
              "\n",
              "  .colab-df-quickchart-complete:disabled,\n",
              "  .colab-df-quickchart-complete:disabled:hover {\n",
              "    background-color: var(--disabled-bg-color);\n",
              "    fill: var(--disabled-fill-color);\n",
              "    box-shadow: none;\n",
              "  }\n",
              "\n",
              "  .colab-df-spinner {\n",
              "    border: 2px solid var(--fill-color);\n",
              "    border-color: transparent;\n",
              "    border-bottom-color: var(--fill-color);\n",
              "    animation:\n",
              "      spin 1s steps(1) infinite;\n",
              "  }\n",
              "\n",
              "  @keyframes spin {\n",
              "    0% {\n",
              "      border-color: transparent;\n",
              "      border-bottom-color: var(--fill-color);\n",
              "      border-left-color: var(--fill-color);\n",
              "    }\n",
              "    20% {\n",
              "      border-color: transparent;\n",
              "      border-left-color: var(--fill-color);\n",
              "      border-top-color: var(--fill-color);\n",
              "    }\n",
              "    30% {\n",
              "      border-color: transparent;\n",
              "      border-left-color: var(--fill-color);\n",
              "      border-top-color: var(--fill-color);\n",
              "      border-right-color: var(--fill-color);\n",
              "    }\n",
              "    40% {\n",
              "      border-color: transparent;\n",
              "      border-right-color: var(--fill-color);\n",
              "      border-top-color: var(--fill-color);\n",
              "    }\n",
              "    60% {\n",
              "      border-color: transparent;\n",
              "      border-right-color: var(--fill-color);\n",
              "    }\n",
              "    80% {\n",
              "      border-color: transparent;\n",
              "      border-right-color: var(--fill-color);\n",
              "      border-bottom-color: var(--fill-color);\n",
              "    }\n",
              "    90% {\n",
              "      border-color: transparent;\n",
              "      border-bottom-color: var(--fill-color);\n",
              "    }\n",
              "  }\n",
              "</style>\n",
              "\n",
              "  <script>\n",
              "    async function quickchart(key) {\n",
              "      const quickchartButtonEl =\n",
              "        document.querySelector('#' + key + ' button');\n",
              "      quickchartButtonEl.disabled = true;  // To prevent multiple clicks.\n",
              "      quickchartButtonEl.classList.add('colab-df-spinner');\n",
              "      try {\n",
              "        const charts = await google.colab.kernel.invokeFunction(\n",
              "            'suggestCharts', [key], {});\n",
              "      } catch (error) {\n",
              "        console.error('Error during call to suggestCharts:', error);\n",
              "      }\n",
              "      quickchartButtonEl.classList.remove('colab-df-spinner');\n",
              "      quickchartButtonEl.classList.add('colab-df-quickchart-complete');\n",
              "    }\n",
              "    (() => {\n",
              "      let quickchartButtonEl =\n",
              "        document.querySelector('#df-08fbbf5e-7b5f-421f-a8f3-ff079b926c83 button');\n",
              "      quickchartButtonEl.style.display =\n",
              "        google.colab.kernel.accessAllowed ? 'block' : 'none';\n",
              "    })();\n",
              "  </script>\n",
              "</div>\n",
              "\n",
              "    </div>\n",
              "  </div>\n"
            ],
            "application/vnd.google.colaboratory.intrinsic+json": {
              "type": "dataframe",
              "variable_name": "movies",
              "summary": "{\n  \"name\": \"movies\",\n  \"rows\": 1000,\n  \"fields\": [\n    {\n      \"column\": \"Series_Title\",\n      \"properties\": {\n        \"dtype\": \"string\",\n        \"num_unique_values\": 999,\n        \"samples\": [\n          \"The Best Years of Our Lives\",\n          \"Hedwig and the Angry Inch\",\n          \"Gone Girl\"\n        ],\n        \"semantic_type\": \"\",\n        \"description\": \"\"\n      }\n    },\n    {\n      \"column\": \"Released_Year\",\n      \"properties\": {\n        \"dtype\": \"category\",\n        \"num_unique_values\": 100,\n        \"samples\": [\n          \"1934\",\n          \"1992\",\n          \"1989\"\n        ],\n        \"semantic_type\": \"\",\n        \"description\": \"\"\n      }\n    },\n    {\n      \"column\": \"Runtime\",\n      \"properties\": {\n        \"dtype\": \"number\",\n        \"std\": 28,\n        \"min\": 45,\n        \"max\": 321,\n        \"num_unique_values\": 140,\n        \"samples\": [\n          205,\n          129,\n          112\n        ],\n        \"semantic_type\": \"\",\n        \"description\": \"\"\n      }\n    },\n    {\n      \"column\": \"Genre\",\n      \"properties\": {\n        \"dtype\": \"category\",\n        \"num_unique_values\": 14,\n        \"samples\": [\n          \"Mystery\",\n          \"Fantasy\",\n          \"Drama\"\n        ],\n        \"semantic_type\": \"\",\n        \"description\": \"\"\n      }\n    },\n    {\n      \"column\": \"IMDB_Rating\",\n      \"properties\": {\n        \"dtype\": \"number\",\n        \"std\": 0.2754912074920095,\n        \"min\": 7.6,\n        \"max\": 9.3,\n        \"num_unique_values\": 17,\n        \"samples\": [\n          9.3,\n          9.2,\n          8.7\n        ],\n        \"semantic_type\": \"\",\n        \"description\": \"\"\n      }\n    },\n    {\n      \"column\": \"Director\",\n      \"properties\": {\n        \"dtype\": \"string\",\n        \"num_unique_values\": 548,\n        \"samples\": [\n          \"Satoshi Kon\",\n          \"David Lean\",\n          \"Yilmaz Erdogan\"\n        ],\n        \"semantic_type\": \"\",\n        \"description\": \"\"\n      }\n    },\n    {\n      \"column\": \"Star1\",\n      \"properties\": {\n        \"dtype\": \"string\",\n        \"num_unique_values\": 660,\n        \"samples\": [\n          \"Peter Dinklage\",\n          \"Josh O'Connor\",\n          \"Terry Jones\"\n        ],\n        \"semantic_type\": \"\",\n        \"description\": \"\"\n      }\n    },\n    {\n      \"column\": \"No_of_Votes\",\n      \"properties\": {\n        \"dtype\": \"number\",\n        \"std\": 327372,\n        \"min\": 25088,\n        \"max\": 2343110,\n        \"num_unique_values\": 999,\n        \"samples\": [\n          42725,\n          31957,\n          707630\n        ],\n        \"semantic_type\": \"\",\n        \"description\": \"\"\n      }\n    },\n    {\n      \"column\": \"Gross\",\n      \"properties\": {\n        \"dtype\": \"number\",\n        \"std\": 201111008.64430267,\n        \"min\": 1305.0,\n        \"max\": 936662225.0,\n        \"num_unique_values\": 992,\n        \"samples\": [\n          56671993.0,\n          1010414.0,\n          53710019.0\n        ],\n        \"semantic_type\": \"\",\n        \"description\": \"\"\n      }\n    },\n    {\n      \"column\": \"Metascore\",\n      \"properties\": {\n        \"dtype\": \"number\",\n        \"std\": 12.376099328602027,\n        \"min\": 28.0,\n        \"max\": 100.0,\n        \"num_unique_values\": 63,\n        \"samples\": [\n          30.0,\n          52.0,\n          80.0\n        ],\n        \"semantic_type\": \"\",\n        \"description\": \"\"\n      }\n    }\n  ]\n}"
            }
          },
          "metadata": {},
          "execution_count": 29
        }
      ]
    },
    {
      "cell_type": "code",
      "source": [
        "genres = movies.groupby('Genre')"
      ],
      "metadata": {
        "id": "KQWVPnNsn-5U"
      },
      "execution_count": 8,
      "outputs": []
    },
    {
      "cell_type": "code",
      "source": [
        "# appling some built-in aggregate functions\n",
        "genres.max()"
      ],
      "metadata": {
        "id": "RSF_QCpgn-2i"
      },
      "execution_count": null,
      "outputs": []
    },
    {
      "cell_type": "code",
      "source": [
        "# find the top 3 gneres by total earning\n",
        "\n",
        "movies.groupby('Genre').sum()['Gross'].sort_values(ascending=False).head(3)\n",
        "movies.groupby('Genre')['Gross'].sum().sort_values(ascending=False).head(3)"
      ],
      "metadata": {
        "id": "ahxMRjkin-zi",
        "colab": {
          "base_uri": "https://localhost:8080/",
          "height": 209
        },
        "outputId": "d074d291-16fe-4d10-e3cd-f216a8ee4e48"
      },
      "execution_count": 22,
      "outputs": [
        {
          "output_type": "execute_result",
          "data": {
            "text/plain": [
              "Genre\n",
              "Drama     3.540997e+10\n",
              "Action    3.263226e+10\n",
              "Comedy    1.566387e+10\n",
              "Name: Gross, dtype: float64"
            ],
            "text/html": [
              "<div>\n",
              "<style scoped>\n",
              "    .dataframe tbody tr th:only-of-type {\n",
              "        vertical-align: middle;\n",
              "    }\n",
              "\n",
              "    .dataframe tbody tr th {\n",
              "        vertical-align: top;\n",
              "    }\n",
              "\n",
              "    .dataframe thead th {\n",
              "        text-align: right;\n",
              "    }\n",
              "</style>\n",
              "<table border=\"1\" class=\"dataframe\">\n",
              "  <thead>\n",
              "    <tr style=\"text-align: right;\">\n",
              "      <th></th>\n",
              "      <th>Gross</th>\n",
              "    </tr>\n",
              "    <tr>\n",
              "      <th>Genre</th>\n",
              "      <th></th>\n",
              "    </tr>\n",
              "  </thead>\n",
              "  <tbody>\n",
              "    <tr>\n",
              "      <th>Drama</th>\n",
              "      <td>3.540997e+10</td>\n",
              "    </tr>\n",
              "    <tr>\n",
              "      <th>Action</th>\n",
              "      <td>3.263226e+10</td>\n",
              "    </tr>\n",
              "    <tr>\n",
              "      <th>Comedy</th>\n",
              "      <td>1.566387e+10</td>\n",
              "    </tr>\n",
              "  </tbody>\n",
              "</table>\n",
              "</div><br><label><b>dtype:</b> float64</label>"
            ]
          },
          "metadata": {},
          "execution_count": 22
        }
      ]
    },
    {
      "cell_type": "code",
      "source": [
        "#find the genre which has the highest avg imdb raing\n",
        "\n",
        "\n",
        "movies.groupby('Genre')['IMDB_Rating'].mean().sort_values(ascending=False).head(1)"
      ],
      "metadata": {
        "id": "kFQfb1omn-wU",
        "colab": {
          "base_uri": "https://localhost:8080/",
          "height": 147
        },
        "outputId": "f4b8af56-ae5b-4d75-a600-789fc0296208"
      },
      "execution_count": 24,
      "outputs": [
        {
          "output_type": "execute_result",
          "data": {
            "text/plain": [
              "Genre\n",
              "Western    8.35\n",
              "Name: IMDB_Rating, dtype: float64"
            ],
            "text/html": [
              "<div>\n",
              "<style scoped>\n",
              "    .dataframe tbody tr th:only-of-type {\n",
              "        vertical-align: middle;\n",
              "    }\n",
              "\n",
              "    .dataframe tbody tr th {\n",
              "        vertical-align: top;\n",
              "    }\n",
              "\n",
              "    .dataframe thead th {\n",
              "        text-align: right;\n",
              "    }\n",
              "</style>\n",
              "<table border=\"1\" class=\"dataframe\">\n",
              "  <thead>\n",
              "    <tr style=\"text-align: right;\">\n",
              "      <th></th>\n",
              "      <th>IMDB_Rating</th>\n",
              "    </tr>\n",
              "    <tr>\n",
              "      <th>Genre</th>\n",
              "      <th></th>\n",
              "    </tr>\n",
              "  </thead>\n",
              "  <tbody>\n",
              "    <tr>\n",
              "      <th>Western</th>\n",
              "      <td>8.35</td>\n",
              "    </tr>\n",
              "  </tbody>\n",
              "</table>\n",
              "</div><br><label><b>dtype:</b> float64</label>"
            ]
          },
          "metadata": {},
          "execution_count": 24
        }
      ]
    },
    {
      "cell_type": "code",
      "source": [
        "# find director with the most popularity\n",
        "\n",
        "movies.groupby('Director')['No_of_Votes'].sum().sort_values(ascending=False).head(1)"
      ],
      "metadata": {
        "id": "yOK0ZPrAn-so",
        "colab": {
          "base_uri": "https://localhost:8080/",
          "height": 147
        },
        "outputId": "f81d0cb6-d224-4755-b961-7cb7ffdfbd8f"
      },
      "execution_count": 28,
      "outputs": [
        {
          "output_type": "execute_result",
          "data": {
            "text/plain": [
              "Director\n",
              "Christopher Nolan    11578345\n",
              "Name: No_of_Votes, dtype: int64"
            ],
            "text/html": [
              "<div>\n",
              "<style scoped>\n",
              "    .dataframe tbody tr th:only-of-type {\n",
              "        vertical-align: middle;\n",
              "    }\n",
              "\n",
              "    .dataframe tbody tr th {\n",
              "        vertical-align: top;\n",
              "    }\n",
              "\n",
              "    .dataframe thead th {\n",
              "        text-align: right;\n",
              "    }\n",
              "</style>\n",
              "<table border=\"1\" class=\"dataframe\">\n",
              "  <thead>\n",
              "    <tr style=\"text-align: right;\">\n",
              "      <th></th>\n",
              "      <th>No_of_Votes</th>\n",
              "    </tr>\n",
              "    <tr>\n",
              "      <th>Director</th>\n",
              "      <th></th>\n",
              "    </tr>\n",
              "  </thead>\n",
              "  <tbody>\n",
              "    <tr>\n",
              "      <th>Christopher Nolan</th>\n",
              "      <td>11578345</td>\n",
              "    </tr>\n",
              "  </tbody>\n",
              "</table>\n",
              "</div><br><label><b>dtype:</b> int64</label>"
            ]
          },
          "metadata": {},
          "execution_count": 28
        }
      ]
    },
    {
      "cell_type": "code",
      "source": [
        "# movies by Christophen Nolan\n"
      ],
      "metadata": {
        "id": "Iwi5D7i_n-pe"
      },
      "execution_count": null,
      "outputs": []
    },
    {
      "cell_type": "code",
      "source": [
        "#highest rated movie of each genre\n",
        "movies.groupby('Genre')[['IMDB_Rating','Series_Title',]].max()"
      ],
      "metadata": {
        "id": "MCSeMicGn9EK",
        "colab": {
          "base_uri": "https://localhost:8080/",
          "height": 519
        },
        "outputId": "98b02973-11c8-4861-dfdd-f8ed23bdf7fd"
      },
      "execution_count": 31,
      "outputs": [
        {
          "output_type": "execute_result",
          "data": {
            "text/plain": [
              "           IMDB_Rating                         Series_Title\n",
              "Genre                                                      \n",
              "Action             9.0                              Yôjinbô\n",
              "Adventure          8.6                           Zombieland\n",
              "Animation          8.6          Ôkami kodomo no Ame to Yuki\n",
              "Biography          8.9                              Zerkalo\n",
              "Comedy             8.6             Zindagi Na Milegi Dobara\n",
              "Crime              9.2                    À bout de souffle\n",
              "Drama              9.3                            Zwartboek\n",
              "Family             7.8  Willy Wonka & the Chocolate Factory\n",
              "Fantasy            8.1                            Nosferatu\n",
              "Film-Noir          8.1                        The Third Man\n",
              "Horror             8.5                            The Thing\n",
              "Mystery            8.4                              Vertigo\n",
              "Thriller           7.8                      Wait Until Dark\n",
              "Western            8.8               The Outlaw Josey Wales"
            ],
            "text/html": [
              "\n",
              "  <div id=\"df-7b5d6df4-c04b-4a2e-8791-ed17176ae779\" class=\"colab-df-container\">\n",
              "    <div>\n",
              "<style scoped>\n",
              "    .dataframe tbody tr th:only-of-type {\n",
              "        vertical-align: middle;\n",
              "    }\n",
              "\n",
              "    .dataframe tbody tr th {\n",
              "        vertical-align: top;\n",
              "    }\n",
              "\n",
              "    .dataframe thead th {\n",
              "        text-align: right;\n",
              "    }\n",
              "</style>\n",
              "<table border=\"1\" class=\"dataframe\">\n",
              "  <thead>\n",
              "    <tr style=\"text-align: right;\">\n",
              "      <th></th>\n",
              "      <th>IMDB_Rating</th>\n",
              "      <th>Series_Title</th>\n",
              "    </tr>\n",
              "    <tr>\n",
              "      <th>Genre</th>\n",
              "      <th></th>\n",
              "      <th></th>\n",
              "    </tr>\n",
              "  </thead>\n",
              "  <tbody>\n",
              "    <tr>\n",
              "      <th>Action</th>\n",
              "      <td>9.0</td>\n",
              "      <td>Yôjinbô</td>\n",
              "    </tr>\n",
              "    <tr>\n",
              "      <th>Adventure</th>\n",
              "      <td>8.6</td>\n",
              "      <td>Zombieland</td>\n",
              "    </tr>\n",
              "    <tr>\n",
              "      <th>Animation</th>\n",
              "      <td>8.6</td>\n",
              "      <td>Ôkami kodomo no Ame to Yuki</td>\n",
              "    </tr>\n",
              "    <tr>\n",
              "      <th>Biography</th>\n",
              "      <td>8.9</td>\n",
              "      <td>Zerkalo</td>\n",
              "    </tr>\n",
              "    <tr>\n",
              "      <th>Comedy</th>\n",
              "      <td>8.6</td>\n",
              "      <td>Zindagi Na Milegi Dobara</td>\n",
              "    </tr>\n",
              "    <tr>\n",
              "      <th>Crime</th>\n",
              "      <td>9.2</td>\n",
              "      <td>À bout de souffle</td>\n",
              "    </tr>\n",
              "    <tr>\n",
              "      <th>Drama</th>\n",
              "      <td>9.3</td>\n",
              "      <td>Zwartboek</td>\n",
              "    </tr>\n",
              "    <tr>\n",
              "      <th>Family</th>\n",
              "      <td>7.8</td>\n",
              "      <td>Willy Wonka &amp; the Chocolate Factory</td>\n",
              "    </tr>\n",
              "    <tr>\n",
              "      <th>Fantasy</th>\n",
              "      <td>8.1</td>\n",
              "      <td>Nosferatu</td>\n",
              "    </tr>\n",
              "    <tr>\n",
              "      <th>Film-Noir</th>\n",
              "      <td>8.1</td>\n",
              "      <td>The Third Man</td>\n",
              "    </tr>\n",
              "    <tr>\n",
              "      <th>Horror</th>\n",
              "      <td>8.5</td>\n",
              "      <td>The Thing</td>\n",
              "    </tr>\n",
              "    <tr>\n",
              "      <th>Mystery</th>\n",
              "      <td>8.4</td>\n",
              "      <td>Vertigo</td>\n",
              "    </tr>\n",
              "    <tr>\n",
              "      <th>Thriller</th>\n",
              "      <td>7.8</td>\n",
              "      <td>Wait Until Dark</td>\n",
              "    </tr>\n",
              "    <tr>\n",
              "      <th>Western</th>\n",
              "      <td>8.8</td>\n",
              "      <td>The Outlaw Josey Wales</td>\n",
              "    </tr>\n",
              "  </tbody>\n",
              "</table>\n",
              "</div>\n",
              "    <div class=\"colab-df-buttons\">\n",
              "\n",
              "  <div class=\"colab-df-container\">\n",
              "    <button class=\"colab-df-convert\" onclick=\"convertToInteractive('df-7b5d6df4-c04b-4a2e-8791-ed17176ae779')\"\n",
              "            title=\"Convert this dataframe to an interactive table.\"\n",
              "            style=\"display:none;\">\n",
              "\n",
              "  <svg xmlns=\"http://www.w3.org/2000/svg\" height=\"24px\" viewBox=\"0 -960 960 960\">\n",
              "    <path d=\"M120-120v-720h720v720H120Zm60-500h600v-160H180v160Zm220 220h160v-160H400v160Zm0 220h160v-160H400v160ZM180-400h160v-160H180v160Zm440 0h160v-160H620v160ZM180-180h160v-160H180v160Zm440 0h160v-160H620v160Z\"/>\n",
              "  </svg>\n",
              "    </button>\n",
              "\n",
              "  <style>\n",
              "    .colab-df-container {\n",
              "      display:flex;\n",
              "      gap: 12px;\n",
              "    }\n",
              "\n",
              "    .colab-df-convert {\n",
              "      background-color: #E8F0FE;\n",
              "      border: none;\n",
              "      border-radius: 50%;\n",
              "      cursor: pointer;\n",
              "      display: none;\n",
              "      fill: #1967D2;\n",
              "      height: 32px;\n",
              "      padding: 0 0 0 0;\n",
              "      width: 32px;\n",
              "    }\n",
              "\n",
              "    .colab-df-convert:hover {\n",
              "      background-color: #E2EBFA;\n",
              "      box-shadow: 0px 1px 2px rgba(60, 64, 67, 0.3), 0px 1px 3px 1px rgba(60, 64, 67, 0.15);\n",
              "      fill: #174EA6;\n",
              "    }\n",
              "\n",
              "    .colab-df-buttons div {\n",
              "      margin-bottom: 4px;\n",
              "    }\n",
              "\n",
              "    [theme=dark] .colab-df-convert {\n",
              "      background-color: #3B4455;\n",
              "      fill: #D2E3FC;\n",
              "    }\n",
              "\n",
              "    [theme=dark] .colab-df-convert:hover {\n",
              "      background-color: #434B5C;\n",
              "      box-shadow: 0px 1px 3px 1px rgba(0, 0, 0, 0.15);\n",
              "      filter: drop-shadow(0px 1px 2px rgba(0, 0, 0, 0.3));\n",
              "      fill: #FFFFFF;\n",
              "    }\n",
              "  </style>\n",
              "\n",
              "    <script>\n",
              "      const buttonEl =\n",
              "        document.querySelector('#df-7b5d6df4-c04b-4a2e-8791-ed17176ae779 button.colab-df-convert');\n",
              "      buttonEl.style.display =\n",
              "        google.colab.kernel.accessAllowed ? 'block' : 'none';\n",
              "\n",
              "      async function convertToInteractive(key) {\n",
              "        const element = document.querySelector('#df-7b5d6df4-c04b-4a2e-8791-ed17176ae779');\n",
              "        const dataTable =\n",
              "          await google.colab.kernel.invokeFunction('convertToInteractive',\n",
              "                                                    [key], {});\n",
              "        if (!dataTable) return;\n",
              "\n",
              "        const docLinkHtml = 'Like what you see? Visit the ' +\n",
              "          '<a target=\"_blank\" href=https://colab.research.google.com/notebooks/data_table.ipynb>data table notebook</a>'\n",
              "          + ' to learn more about interactive tables.';\n",
              "        element.innerHTML = '';\n",
              "        dataTable['output_type'] = 'display_data';\n",
              "        await google.colab.output.renderOutput(dataTable, element);\n",
              "        const docLink = document.createElement('div');\n",
              "        docLink.innerHTML = docLinkHtml;\n",
              "        element.appendChild(docLink);\n",
              "      }\n",
              "    </script>\n",
              "  </div>\n",
              "\n",
              "\n",
              "<div id=\"df-243f2405-5ba2-4b9a-9057-e328b6eeef54\">\n",
              "  <button class=\"colab-df-quickchart\" onclick=\"quickchart('df-243f2405-5ba2-4b9a-9057-e328b6eeef54')\"\n",
              "            title=\"Suggest charts\"\n",
              "            style=\"display:none;\">\n",
              "\n",
              "<svg xmlns=\"http://www.w3.org/2000/svg\" height=\"24px\"viewBox=\"0 0 24 24\"\n",
              "     width=\"24px\">\n",
              "    <g>\n",
              "        <path d=\"M19 3H5c-1.1 0-2 .9-2 2v14c0 1.1.9 2 2 2h14c1.1 0 2-.9 2-2V5c0-1.1-.9-2-2-2zM9 17H7v-7h2v7zm4 0h-2V7h2v10zm4 0h-2v-4h2v4z\"/>\n",
              "    </g>\n",
              "</svg>\n",
              "  </button>\n",
              "\n",
              "<style>\n",
              "  .colab-df-quickchart {\n",
              "      --bg-color: #E8F0FE;\n",
              "      --fill-color: #1967D2;\n",
              "      --hover-bg-color: #E2EBFA;\n",
              "      --hover-fill-color: #174EA6;\n",
              "      --disabled-fill-color: #AAA;\n",
              "      --disabled-bg-color: #DDD;\n",
              "  }\n",
              "\n",
              "  [theme=dark] .colab-df-quickchart {\n",
              "      --bg-color: #3B4455;\n",
              "      --fill-color: #D2E3FC;\n",
              "      --hover-bg-color: #434B5C;\n",
              "      --hover-fill-color: #FFFFFF;\n",
              "      --disabled-bg-color: #3B4455;\n",
              "      --disabled-fill-color: #666;\n",
              "  }\n",
              "\n",
              "  .colab-df-quickchart {\n",
              "    background-color: var(--bg-color);\n",
              "    border: none;\n",
              "    border-radius: 50%;\n",
              "    cursor: pointer;\n",
              "    display: none;\n",
              "    fill: var(--fill-color);\n",
              "    height: 32px;\n",
              "    padding: 0;\n",
              "    width: 32px;\n",
              "  }\n",
              "\n",
              "  .colab-df-quickchart:hover {\n",
              "    background-color: var(--hover-bg-color);\n",
              "    box-shadow: 0 1px 2px rgba(60, 64, 67, 0.3), 0 1px 3px 1px rgba(60, 64, 67, 0.15);\n",
              "    fill: var(--button-hover-fill-color);\n",
              "  }\n",
              "\n",
              "  .colab-df-quickchart-complete:disabled,\n",
              "  .colab-df-quickchart-complete:disabled:hover {\n",
              "    background-color: var(--disabled-bg-color);\n",
              "    fill: var(--disabled-fill-color);\n",
              "    box-shadow: none;\n",
              "  }\n",
              "\n",
              "  .colab-df-spinner {\n",
              "    border: 2px solid var(--fill-color);\n",
              "    border-color: transparent;\n",
              "    border-bottom-color: var(--fill-color);\n",
              "    animation:\n",
              "      spin 1s steps(1) infinite;\n",
              "  }\n",
              "\n",
              "  @keyframes spin {\n",
              "    0% {\n",
              "      border-color: transparent;\n",
              "      border-bottom-color: var(--fill-color);\n",
              "      border-left-color: var(--fill-color);\n",
              "    }\n",
              "    20% {\n",
              "      border-color: transparent;\n",
              "      border-left-color: var(--fill-color);\n",
              "      border-top-color: var(--fill-color);\n",
              "    }\n",
              "    30% {\n",
              "      border-color: transparent;\n",
              "      border-left-color: var(--fill-color);\n",
              "      border-top-color: var(--fill-color);\n",
              "      border-right-color: var(--fill-color);\n",
              "    }\n",
              "    40% {\n",
              "      border-color: transparent;\n",
              "      border-right-color: var(--fill-color);\n",
              "      border-top-color: var(--fill-color);\n",
              "    }\n",
              "    60% {\n",
              "      border-color: transparent;\n",
              "      border-right-color: var(--fill-color);\n",
              "    }\n",
              "    80% {\n",
              "      border-color: transparent;\n",
              "      border-right-color: var(--fill-color);\n",
              "      border-bottom-color: var(--fill-color);\n",
              "    }\n",
              "    90% {\n",
              "      border-color: transparent;\n",
              "      border-bottom-color: var(--fill-color);\n",
              "    }\n",
              "  }\n",
              "</style>\n",
              "\n",
              "  <script>\n",
              "    async function quickchart(key) {\n",
              "      const quickchartButtonEl =\n",
              "        document.querySelector('#' + key + ' button');\n",
              "      quickchartButtonEl.disabled = true;  // To prevent multiple clicks.\n",
              "      quickchartButtonEl.classList.add('colab-df-spinner');\n",
              "      try {\n",
              "        const charts = await google.colab.kernel.invokeFunction(\n",
              "            'suggestCharts', [key], {});\n",
              "      } catch (error) {\n",
              "        console.error('Error during call to suggestCharts:', error);\n",
              "      }\n",
              "      quickchartButtonEl.classList.remove('colab-df-spinner');\n",
              "      quickchartButtonEl.classList.add('colab-df-quickchart-complete');\n",
              "    }\n",
              "    (() => {\n",
              "      let quickchartButtonEl =\n",
              "        document.querySelector('#df-243f2405-5ba2-4b9a-9057-e328b6eeef54 button');\n",
              "      quickchartButtonEl.style.display =\n",
              "        google.colab.kernel.accessAllowed ? 'block' : 'none';\n",
              "    })();\n",
              "  </script>\n",
              "</div>\n",
              "\n",
              "    </div>\n",
              "  </div>\n"
            ],
            "application/vnd.google.colaboratory.intrinsic+json": {
              "type": "dataframe",
              "summary": "{\n  \"name\": \"movies\",\n  \"rows\": 14,\n  \"fields\": [\n    {\n      \"column\": \"Genre\",\n      \"properties\": {\n        \"dtype\": \"string\",\n        \"num_unique_values\": 14,\n        \"samples\": [\n          \"Film-Noir\",\n          \"Mystery\",\n          \"Action\"\n        ],\n        \"semantic_type\": \"\",\n        \"description\": \"\"\n      }\n    },\n    {\n      \"column\": \"IMDB_Rating\",\n      \"properties\": {\n        \"dtype\": \"number\",\n        \"std\": 0.47515179760707094,\n        \"min\": 7.8,\n        \"max\": 9.3,\n        \"num_unique_values\": 10,\n        \"samples\": [\n          8.4,\n          8.6,\n          7.8\n        ],\n        \"semantic_type\": \"\",\n        \"description\": \"\"\n      }\n    },\n    {\n      \"column\": \"Series_Title\",\n      \"properties\": {\n        \"dtype\": \"string\",\n        \"num_unique_values\": 14,\n        \"samples\": [\n          \"The Third Man\",\n          \"Vertigo\",\n          \"Y\\u00f4jinb\\u00f4\"\n        ],\n        \"semantic_type\": \"\",\n        \"description\": \"\"\n      }\n    }\n  ]\n}"
            }
          },
          "metadata": {},
          "execution_count": 31
        }
      ]
    },
    {
      "cell_type": "code",
      "source": [
        "# number of movies done by each actor\n",
        "\n",
        "movies['Star1'].value_counts()\n",
        "#or\n",
        "movies.groupby('Star1')['Series_Title'].count().sort_values(ascending=False)"
      ],
      "metadata": {
        "id": "NMWJZPf4n9A3"
      },
      "execution_count": null,
      "outputs": []
    },
    {
      "cell_type": "code",
      "source": [
        "from collections.abc import ItemsView\n",
        "# gorupby() Attributes and Methods\n",
        "'''\n",
        "find total number of groups - > len\n",
        "find items in each group - > np.size\n",
        "first()/last() -> nth item\n",
        "get_group -> vs filtering\n",
        "groups\n",
        "describe\n",
        "sample\n",
        "nunique\n",
        "'''\n",
        "\n",
        "\n",
        "len(movies.groupby('Genre'))\n",
        "#OR\n",
        "movies.groupby('Genre').nunique()\n",
        "\n",
        "movies.groupby('Genre').size()\n",
        "#OR\n",
        "movies['Genre'].value_counts()\n",
        "\n",
        "gnr = movies.groupby('Genre')\n",
        "\n",
        "\n",
        "gnr.first()  # gives first movie of each genre\n",
        "gnr.last()   # last movie of each genre\n",
        "gnr.nth(2)   # nth here n is 2 so 2nd movie of each genre\n",
        "gnr.get_group('Horror')['Series_Title'] # fetch all values of a particular given group\n",
        "gnr.groups  # it gives a dictionary where all genre is key and all movie's index number is value\n",
        "\n",
        "gnr.describe() # gives count,mean,std_dev,min,max,25%,50%,75% of the groups\n",
        "\n",
        "gnr.sample(2,replace=True)\n",
        "\n",
        "gnr.nunique() # unique value"
      ],
      "metadata": {
        "id": "1hZctKnkn898",
        "colab": {
          "base_uri": "https://localhost:8080/",
          "height": 539
        },
        "outputId": "96269666-6dbc-4d9e-d7b8-d9553a778c03"
      },
      "execution_count": 59,
      "outputs": [
        {
          "output_type": "execute_result",
          "data": {
            "text/plain": [
              "           Series_Title  Released_Year  Runtime  IMDB_Rating  Director  Star1  \\\n",
              "Genre                                                                           \n",
              "Action              172             61       78           15       123    121   \n",
              "Adventure            72             49       58           10        59     59   \n",
              "Animation            82             35       41           11        51     77   \n",
              "Biography            88             44       56           13        76     72   \n",
              "Comedy              155             72       70           11       113    133   \n",
              "Crime               106             56       65           14        86     85   \n",
              "Drama               289             83       95           14       211    250   \n",
              "Family                2              2        2            1         2      2   \n",
              "Fantasy               2              2        2            2         2      2   \n",
              "Film-Noir             3              3        3            3         3      3   \n",
              "Horror               11             11       10            8        10     11   \n",
              "Mystery              12             11       10            8        10     11   \n",
              "Thriller              1              1        1            1         1      1   \n",
              "Western               4              4        4            4         2      2   \n",
              "\n",
              "           No_of_Votes  Gross  Metascore  \n",
              "Genre                                     \n",
              "Action             172    172         50  \n",
              "Adventure           72     72         33  \n",
              "Animation           82     82         29  \n",
              "Biography           88     88         40  \n",
              "Comedy             155    155         44  \n",
              "Crime              107    107         39  \n",
              "Drama              288    287         52  \n",
              "Family               2      2          2  \n",
              "Fantasy              2      2          0  \n",
              "Film-Noir            3      3          3  \n",
              "Horror              11     11          9  \n",
              "Mystery             12     12          7  \n",
              "Thriller             1      1          1  \n",
              "Western              4      4          4  "
            ],
            "text/html": [
              "\n",
              "  <div id=\"df-359b6ce5-78ff-4e19-a55c-6b1c675a46e1\" class=\"colab-df-container\">\n",
              "    <div>\n",
              "<style scoped>\n",
              "    .dataframe tbody tr th:only-of-type {\n",
              "        vertical-align: middle;\n",
              "    }\n",
              "\n",
              "    .dataframe tbody tr th {\n",
              "        vertical-align: top;\n",
              "    }\n",
              "\n",
              "    .dataframe thead th {\n",
              "        text-align: right;\n",
              "    }\n",
              "</style>\n",
              "<table border=\"1\" class=\"dataframe\">\n",
              "  <thead>\n",
              "    <tr style=\"text-align: right;\">\n",
              "      <th></th>\n",
              "      <th>Series_Title</th>\n",
              "      <th>Released_Year</th>\n",
              "      <th>Runtime</th>\n",
              "      <th>IMDB_Rating</th>\n",
              "      <th>Director</th>\n",
              "      <th>Star1</th>\n",
              "      <th>No_of_Votes</th>\n",
              "      <th>Gross</th>\n",
              "      <th>Metascore</th>\n",
              "    </tr>\n",
              "    <tr>\n",
              "      <th>Genre</th>\n",
              "      <th></th>\n",
              "      <th></th>\n",
              "      <th></th>\n",
              "      <th></th>\n",
              "      <th></th>\n",
              "      <th></th>\n",
              "      <th></th>\n",
              "      <th></th>\n",
              "      <th></th>\n",
              "    </tr>\n",
              "  </thead>\n",
              "  <tbody>\n",
              "    <tr>\n",
              "      <th>Action</th>\n",
              "      <td>172</td>\n",
              "      <td>61</td>\n",
              "      <td>78</td>\n",
              "      <td>15</td>\n",
              "      <td>123</td>\n",
              "      <td>121</td>\n",
              "      <td>172</td>\n",
              "      <td>172</td>\n",
              "      <td>50</td>\n",
              "    </tr>\n",
              "    <tr>\n",
              "      <th>Adventure</th>\n",
              "      <td>72</td>\n",
              "      <td>49</td>\n",
              "      <td>58</td>\n",
              "      <td>10</td>\n",
              "      <td>59</td>\n",
              "      <td>59</td>\n",
              "      <td>72</td>\n",
              "      <td>72</td>\n",
              "      <td>33</td>\n",
              "    </tr>\n",
              "    <tr>\n",
              "      <th>Animation</th>\n",
              "      <td>82</td>\n",
              "      <td>35</td>\n",
              "      <td>41</td>\n",
              "      <td>11</td>\n",
              "      <td>51</td>\n",
              "      <td>77</td>\n",
              "      <td>82</td>\n",
              "      <td>82</td>\n",
              "      <td>29</td>\n",
              "    </tr>\n",
              "    <tr>\n",
              "      <th>Biography</th>\n",
              "      <td>88</td>\n",
              "      <td>44</td>\n",
              "      <td>56</td>\n",
              "      <td>13</td>\n",
              "      <td>76</td>\n",
              "      <td>72</td>\n",
              "      <td>88</td>\n",
              "      <td>88</td>\n",
              "      <td>40</td>\n",
              "    </tr>\n",
              "    <tr>\n",
              "      <th>Comedy</th>\n",
              "      <td>155</td>\n",
              "      <td>72</td>\n",
              "      <td>70</td>\n",
              "      <td>11</td>\n",
              "      <td>113</td>\n",
              "      <td>133</td>\n",
              "      <td>155</td>\n",
              "      <td>155</td>\n",
              "      <td>44</td>\n",
              "    </tr>\n",
              "    <tr>\n",
              "      <th>Crime</th>\n",
              "      <td>106</td>\n",
              "      <td>56</td>\n",
              "      <td>65</td>\n",
              "      <td>14</td>\n",
              "      <td>86</td>\n",
              "      <td>85</td>\n",
              "      <td>107</td>\n",
              "      <td>107</td>\n",
              "      <td>39</td>\n",
              "    </tr>\n",
              "    <tr>\n",
              "      <th>Drama</th>\n",
              "      <td>289</td>\n",
              "      <td>83</td>\n",
              "      <td>95</td>\n",
              "      <td>14</td>\n",
              "      <td>211</td>\n",
              "      <td>250</td>\n",
              "      <td>288</td>\n",
              "      <td>287</td>\n",
              "      <td>52</td>\n",
              "    </tr>\n",
              "    <tr>\n",
              "      <th>Family</th>\n",
              "      <td>2</td>\n",
              "      <td>2</td>\n",
              "      <td>2</td>\n",
              "      <td>1</td>\n",
              "      <td>2</td>\n",
              "      <td>2</td>\n",
              "      <td>2</td>\n",
              "      <td>2</td>\n",
              "      <td>2</td>\n",
              "    </tr>\n",
              "    <tr>\n",
              "      <th>Fantasy</th>\n",
              "      <td>2</td>\n",
              "      <td>2</td>\n",
              "      <td>2</td>\n",
              "      <td>2</td>\n",
              "      <td>2</td>\n",
              "      <td>2</td>\n",
              "      <td>2</td>\n",
              "      <td>2</td>\n",
              "      <td>0</td>\n",
              "    </tr>\n",
              "    <tr>\n",
              "      <th>Film-Noir</th>\n",
              "      <td>3</td>\n",
              "      <td>3</td>\n",
              "      <td>3</td>\n",
              "      <td>3</td>\n",
              "      <td>3</td>\n",
              "      <td>3</td>\n",
              "      <td>3</td>\n",
              "      <td>3</td>\n",
              "      <td>3</td>\n",
              "    </tr>\n",
              "    <tr>\n",
              "      <th>Horror</th>\n",
              "      <td>11</td>\n",
              "      <td>11</td>\n",
              "      <td>10</td>\n",
              "      <td>8</td>\n",
              "      <td>10</td>\n",
              "      <td>11</td>\n",
              "      <td>11</td>\n",
              "      <td>11</td>\n",
              "      <td>9</td>\n",
              "    </tr>\n",
              "    <tr>\n",
              "      <th>Mystery</th>\n",
              "      <td>12</td>\n",
              "      <td>11</td>\n",
              "      <td>10</td>\n",
              "      <td>8</td>\n",
              "      <td>10</td>\n",
              "      <td>11</td>\n",
              "      <td>12</td>\n",
              "      <td>12</td>\n",
              "      <td>7</td>\n",
              "    </tr>\n",
              "    <tr>\n",
              "      <th>Thriller</th>\n",
              "      <td>1</td>\n",
              "      <td>1</td>\n",
              "      <td>1</td>\n",
              "      <td>1</td>\n",
              "      <td>1</td>\n",
              "      <td>1</td>\n",
              "      <td>1</td>\n",
              "      <td>1</td>\n",
              "      <td>1</td>\n",
              "    </tr>\n",
              "    <tr>\n",
              "      <th>Western</th>\n",
              "      <td>4</td>\n",
              "      <td>4</td>\n",
              "      <td>4</td>\n",
              "      <td>4</td>\n",
              "      <td>2</td>\n",
              "      <td>2</td>\n",
              "      <td>4</td>\n",
              "      <td>4</td>\n",
              "      <td>4</td>\n",
              "    </tr>\n",
              "  </tbody>\n",
              "</table>\n",
              "</div>\n",
              "    <div class=\"colab-df-buttons\">\n",
              "\n",
              "  <div class=\"colab-df-container\">\n",
              "    <button class=\"colab-df-convert\" onclick=\"convertToInteractive('df-359b6ce5-78ff-4e19-a55c-6b1c675a46e1')\"\n",
              "            title=\"Convert this dataframe to an interactive table.\"\n",
              "            style=\"display:none;\">\n",
              "\n",
              "  <svg xmlns=\"http://www.w3.org/2000/svg\" height=\"24px\" viewBox=\"0 -960 960 960\">\n",
              "    <path d=\"M120-120v-720h720v720H120Zm60-500h600v-160H180v160Zm220 220h160v-160H400v160Zm0 220h160v-160H400v160ZM180-400h160v-160H180v160Zm440 0h160v-160H620v160ZM180-180h160v-160H180v160Zm440 0h160v-160H620v160Z\"/>\n",
              "  </svg>\n",
              "    </button>\n",
              "\n",
              "  <style>\n",
              "    .colab-df-container {\n",
              "      display:flex;\n",
              "      gap: 12px;\n",
              "    }\n",
              "\n",
              "    .colab-df-convert {\n",
              "      background-color: #E8F0FE;\n",
              "      border: none;\n",
              "      border-radius: 50%;\n",
              "      cursor: pointer;\n",
              "      display: none;\n",
              "      fill: #1967D2;\n",
              "      height: 32px;\n",
              "      padding: 0 0 0 0;\n",
              "      width: 32px;\n",
              "    }\n",
              "\n",
              "    .colab-df-convert:hover {\n",
              "      background-color: #E2EBFA;\n",
              "      box-shadow: 0px 1px 2px rgba(60, 64, 67, 0.3), 0px 1px 3px 1px rgba(60, 64, 67, 0.15);\n",
              "      fill: #174EA6;\n",
              "    }\n",
              "\n",
              "    .colab-df-buttons div {\n",
              "      margin-bottom: 4px;\n",
              "    }\n",
              "\n",
              "    [theme=dark] .colab-df-convert {\n",
              "      background-color: #3B4455;\n",
              "      fill: #D2E3FC;\n",
              "    }\n",
              "\n",
              "    [theme=dark] .colab-df-convert:hover {\n",
              "      background-color: #434B5C;\n",
              "      box-shadow: 0px 1px 3px 1px rgba(0, 0, 0, 0.15);\n",
              "      filter: drop-shadow(0px 1px 2px rgba(0, 0, 0, 0.3));\n",
              "      fill: #FFFFFF;\n",
              "    }\n",
              "  </style>\n",
              "\n",
              "    <script>\n",
              "      const buttonEl =\n",
              "        document.querySelector('#df-359b6ce5-78ff-4e19-a55c-6b1c675a46e1 button.colab-df-convert');\n",
              "      buttonEl.style.display =\n",
              "        google.colab.kernel.accessAllowed ? 'block' : 'none';\n",
              "\n",
              "      async function convertToInteractive(key) {\n",
              "        const element = document.querySelector('#df-359b6ce5-78ff-4e19-a55c-6b1c675a46e1');\n",
              "        const dataTable =\n",
              "          await google.colab.kernel.invokeFunction('convertToInteractive',\n",
              "                                                    [key], {});\n",
              "        if (!dataTable) return;\n",
              "\n",
              "        const docLinkHtml = 'Like what you see? Visit the ' +\n",
              "          '<a target=\"_blank\" href=https://colab.research.google.com/notebooks/data_table.ipynb>data table notebook</a>'\n",
              "          + ' to learn more about interactive tables.';\n",
              "        element.innerHTML = '';\n",
              "        dataTable['output_type'] = 'display_data';\n",
              "        await google.colab.output.renderOutput(dataTable, element);\n",
              "        const docLink = document.createElement('div');\n",
              "        docLink.innerHTML = docLinkHtml;\n",
              "        element.appendChild(docLink);\n",
              "      }\n",
              "    </script>\n",
              "  </div>\n",
              "\n",
              "\n",
              "<div id=\"df-9e3ee6a2-ad8c-4a90-a14b-443300fec2ae\">\n",
              "  <button class=\"colab-df-quickchart\" onclick=\"quickchart('df-9e3ee6a2-ad8c-4a90-a14b-443300fec2ae')\"\n",
              "            title=\"Suggest charts\"\n",
              "            style=\"display:none;\">\n",
              "\n",
              "<svg xmlns=\"http://www.w3.org/2000/svg\" height=\"24px\"viewBox=\"0 0 24 24\"\n",
              "     width=\"24px\">\n",
              "    <g>\n",
              "        <path d=\"M19 3H5c-1.1 0-2 .9-2 2v14c0 1.1.9 2 2 2h14c1.1 0 2-.9 2-2V5c0-1.1-.9-2-2-2zM9 17H7v-7h2v7zm4 0h-2V7h2v10zm4 0h-2v-4h2v4z\"/>\n",
              "    </g>\n",
              "</svg>\n",
              "  </button>\n",
              "\n",
              "<style>\n",
              "  .colab-df-quickchart {\n",
              "      --bg-color: #E8F0FE;\n",
              "      --fill-color: #1967D2;\n",
              "      --hover-bg-color: #E2EBFA;\n",
              "      --hover-fill-color: #174EA6;\n",
              "      --disabled-fill-color: #AAA;\n",
              "      --disabled-bg-color: #DDD;\n",
              "  }\n",
              "\n",
              "  [theme=dark] .colab-df-quickchart {\n",
              "      --bg-color: #3B4455;\n",
              "      --fill-color: #D2E3FC;\n",
              "      --hover-bg-color: #434B5C;\n",
              "      --hover-fill-color: #FFFFFF;\n",
              "      --disabled-bg-color: #3B4455;\n",
              "      --disabled-fill-color: #666;\n",
              "  }\n",
              "\n",
              "  .colab-df-quickchart {\n",
              "    background-color: var(--bg-color);\n",
              "    border: none;\n",
              "    border-radius: 50%;\n",
              "    cursor: pointer;\n",
              "    display: none;\n",
              "    fill: var(--fill-color);\n",
              "    height: 32px;\n",
              "    padding: 0;\n",
              "    width: 32px;\n",
              "  }\n",
              "\n",
              "  .colab-df-quickchart:hover {\n",
              "    background-color: var(--hover-bg-color);\n",
              "    box-shadow: 0 1px 2px rgba(60, 64, 67, 0.3), 0 1px 3px 1px rgba(60, 64, 67, 0.15);\n",
              "    fill: var(--button-hover-fill-color);\n",
              "  }\n",
              "\n",
              "  .colab-df-quickchart-complete:disabled,\n",
              "  .colab-df-quickchart-complete:disabled:hover {\n",
              "    background-color: var(--disabled-bg-color);\n",
              "    fill: var(--disabled-fill-color);\n",
              "    box-shadow: none;\n",
              "  }\n",
              "\n",
              "  .colab-df-spinner {\n",
              "    border: 2px solid var(--fill-color);\n",
              "    border-color: transparent;\n",
              "    border-bottom-color: var(--fill-color);\n",
              "    animation:\n",
              "      spin 1s steps(1) infinite;\n",
              "  }\n",
              "\n",
              "  @keyframes spin {\n",
              "    0% {\n",
              "      border-color: transparent;\n",
              "      border-bottom-color: var(--fill-color);\n",
              "      border-left-color: var(--fill-color);\n",
              "    }\n",
              "    20% {\n",
              "      border-color: transparent;\n",
              "      border-left-color: var(--fill-color);\n",
              "      border-top-color: var(--fill-color);\n",
              "    }\n",
              "    30% {\n",
              "      border-color: transparent;\n",
              "      border-left-color: var(--fill-color);\n",
              "      border-top-color: var(--fill-color);\n",
              "      border-right-color: var(--fill-color);\n",
              "    }\n",
              "    40% {\n",
              "      border-color: transparent;\n",
              "      border-right-color: var(--fill-color);\n",
              "      border-top-color: var(--fill-color);\n",
              "    }\n",
              "    60% {\n",
              "      border-color: transparent;\n",
              "      border-right-color: var(--fill-color);\n",
              "    }\n",
              "    80% {\n",
              "      border-color: transparent;\n",
              "      border-right-color: var(--fill-color);\n",
              "      border-bottom-color: var(--fill-color);\n",
              "    }\n",
              "    90% {\n",
              "      border-color: transparent;\n",
              "      border-bottom-color: var(--fill-color);\n",
              "    }\n",
              "  }\n",
              "</style>\n",
              "\n",
              "  <script>\n",
              "    async function quickchart(key) {\n",
              "      const quickchartButtonEl =\n",
              "        document.querySelector('#' + key + ' button');\n",
              "      quickchartButtonEl.disabled = true;  // To prevent multiple clicks.\n",
              "      quickchartButtonEl.classList.add('colab-df-spinner');\n",
              "      try {\n",
              "        const charts = await google.colab.kernel.invokeFunction(\n",
              "            'suggestCharts', [key], {});\n",
              "      } catch (error) {\n",
              "        console.error('Error during call to suggestCharts:', error);\n",
              "      }\n",
              "      quickchartButtonEl.classList.remove('colab-df-spinner');\n",
              "      quickchartButtonEl.classList.add('colab-df-quickchart-complete');\n",
              "    }\n",
              "    (() => {\n",
              "      let quickchartButtonEl =\n",
              "        document.querySelector('#df-9e3ee6a2-ad8c-4a90-a14b-443300fec2ae button');\n",
              "      quickchartButtonEl.style.display =\n",
              "        google.colab.kernel.accessAllowed ? 'block' : 'none';\n",
              "    })();\n",
              "  </script>\n",
              "</div>\n",
              "\n",
              "    </div>\n",
              "  </div>\n"
            ],
            "application/vnd.google.colaboratory.intrinsic+json": {
              "type": "dataframe",
              "summary": "{\n  \"name\": \"gnr\",\n  \"rows\": 14,\n  \"fields\": [\n    {\n      \"column\": \"Genre\",\n      \"properties\": {\n        \"dtype\": \"string\",\n        \"num_unique_values\": 14,\n        \"samples\": [\n          \"Film-Noir\",\n          \"Mystery\",\n          \"Action\"\n        ],\n        \"semantic_type\": \"\",\n        \"description\": \"\"\n      }\n    },\n    {\n      \"column\": \"Series_Title\",\n      \"properties\": {\n        \"dtype\": \"number\",\n        \"std\": 86,\n        \"min\": 1,\n        \"max\": 289,\n        \"num_unique_values\": 13,\n        \"samples\": [\n          1,\n          11,\n          172\n        ],\n        \"semantic_type\": \"\",\n        \"description\": \"\"\n      }\n    },\n    {\n      \"column\": \"Released_Year\",\n      \"properties\": {\n        \"dtype\": \"number\",\n        \"std\": 29,\n        \"min\": 1,\n        \"max\": 83,\n        \"num_unique_values\": 12,\n        \"samples\": [\n          1,\n          11,\n          61\n        ],\n        \"semantic_type\": \"\",\n        \"description\": \"\"\n      }\n    },\n    {\n      \"column\": \"Runtime\",\n      \"properties\": {\n        \"dtype\": \"number\",\n        \"std\": 34,\n        \"min\": 1,\n        \"max\": 95,\n        \"num_unique_values\": 12,\n        \"samples\": [\n          1,\n          10,\n          78\n        ],\n        \"semantic_type\": \"\",\n        \"description\": \"\"\n      }\n    },\n    {\n      \"column\": \"IMDB_Rating\",\n      \"properties\": {\n        \"dtype\": \"number\",\n        \"std\": 5,\n        \"min\": 1,\n        \"max\": 15,\n        \"num_unique_values\": 10,\n        \"samples\": [\n          8,\n          10,\n          1\n        ],\n        \"semantic_type\": \"\",\n        \"description\": \"\"\n      }\n    },\n    {\n      \"column\": \"Director\",\n      \"properties\": {\n        \"dtype\": \"number\",\n        \"std\": 63,\n        \"min\": 1,\n        \"max\": 211,\n        \"num_unique_values\": 11,\n        \"samples\": [\n          86,\n          123,\n          10\n        ],\n        \"semantic_type\": \"\",\n        \"description\": \"\"\n      }\n    },\n    {\n      \"column\": \"Star1\",\n      \"properties\": {\n        \"dtype\": \"number\",\n        \"std\": 72,\n        \"min\": 1,\n        \"max\": 250,\n        \"num_unique_values\": 11,\n        \"samples\": [\n          85,\n          121,\n          11\n        ],\n        \"semantic_type\": \"\",\n        \"description\": \"\"\n      }\n    },\n    {\n      \"column\": \"No_of_Votes\",\n      \"properties\": {\n        \"dtype\": \"number\",\n        \"std\": 86,\n        \"min\": 1,\n        \"max\": 288,\n        \"num_unique_values\": 13,\n        \"samples\": [\n          1,\n          11,\n          172\n        ],\n        \"semantic_type\": \"\",\n        \"description\": \"\"\n      }\n    },\n    {\n      \"column\": \"Gross\",\n      \"properties\": {\n        \"dtype\": \"number\",\n        \"std\": 86,\n        \"min\": 1,\n        \"max\": 287,\n        \"num_unique_values\": 13,\n        \"samples\": [\n          1,\n          11,\n          172\n        ],\n        \"semantic_type\": \"\",\n        \"description\": \"\"\n      }\n    },\n    {\n      \"column\": \"Metascore\",\n      \"properties\": {\n        \"dtype\": \"number\",\n        \"std\": 20,\n        \"min\": 0,\n        \"max\": 52,\n        \"num_unique_values\": 14,\n        \"samples\": [\n          3,\n          7,\n          50\n        ],\n        \"semantic_type\": \"\",\n        \"description\": \"\"\n      }\n    }\n  ]\n}"
            }
          },
          "metadata": {},
          "execution_count": 59
        }
      ]
    },
    {
      "cell_type": "code",
      "source": [],
      "metadata": {
        "id": "oX2IsWPTn868"
      },
      "execution_count": null,
      "outputs": []
    },
    {
      "cell_type": "code",
      "source": [],
      "metadata": {
        "id": "h97lk6aon83-"
      },
      "execution_count": null,
      "outputs": []
    },
    {
      "cell_type": "code",
      "source": [],
      "metadata": {
        "id": "nRr1rMQRn80o"
      },
      "execution_count": null,
      "outputs": []
    },
    {
      "cell_type": "code",
      "source": [],
      "metadata": {
        "id": "GLcK7J_Un8xg"
      },
      "execution_count": null,
      "outputs": []
    },
    {
      "cell_type": "code",
      "source": [],
      "metadata": {
        "id": "W5XRn6f0n8ui"
      },
      "execution_count": null,
      "outputs": []
    },
    {
      "cell_type": "code",
      "source": [],
      "metadata": {
        "id": "fhqfQgAqn8rN"
      },
      "execution_count": null,
      "outputs": []
    },
    {
      "cell_type": "code",
      "source": [],
      "metadata": {
        "id": "cLTrRdTun8oD"
      },
      "execution_count": null,
      "outputs": []
    },
    {
      "cell_type": "code",
      "source": [],
      "metadata": {
        "id": "U6w0cq5On8ky"
      },
      "execution_count": null,
      "outputs": []
    },
    {
      "cell_type": "code",
      "source": [],
      "metadata": {
        "id": "X_XYeAAln8g_"
      },
      "execution_count": null,
      "outputs": []
    },
    {
      "cell_type": "code",
      "source": [
        "genres = movies.groupby('Genre')"
      ],
      "metadata": {
        "id": "g4KWKAX2Xtj6"
      },
      "execution_count": null,
      "outputs": []
    },
    {
      "cell_type": "code",
      "source": [
        "# Applying builtin aggregation fuctions on groupby objects\n",
        "genres.std()"
      ],
      "metadata": {
        "id": "BvBQiosE2Eka"
      },
      "execution_count": null,
      "outputs": []
    },
    {
      "cell_type": "code",
      "source": [
        "# find the top 3 genres by total earning\n",
        "movies.groupby('Genre').sum()['Gross'].sort_values(ascending=False).head(3)"
      ],
      "metadata": {
        "id": "AVvVAtWC2YsU"
      },
      "execution_count": null,
      "outputs": []
    },
    {
      "cell_type": "code",
      "source": [
        "movies.groupby('Genre')['Gross'].sum().sort_values(ascending=False).head(3)"
      ],
      "metadata": {
        "id": "5pX5rxoQBNbo"
      },
      "execution_count": null,
      "outputs": []
    },
    {
      "cell_type": "code",
      "source": [
        "# find the genre with highest avg IMDB rating\n",
        "movies.groupby('Genre')['IMDB_Rating'].mean().sort_values(ascending=False).head(1)"
      ],
      "metadata": {
        "id": "wHd-g4R22fQC"
      },
      "execution_count": null,
      "outputs": []
    },
    {
      "cell_type": "code",
      "source": [
        "# find director with most popularity\n",
        "movies.groupby('Director')['No_of_Votes'].sum().sort_values(ascending=False).head(1)"
      ],
      "metadata": {
        "id": "1BmI8cdG3DOA"
      },
      "execution_count": null,
      "outputs": []
    },
    {
      "cell_type": "code",
      "source": [
        "# find the highest rated movie of each genre\n",
        "# movies.groupby('Genre')['IMDB_Rating'].max()"
      ],
      "metadata": {
        "id": "MAgvS8b33TTo"
      },
      "execution_count": null,
      "outputs": []
    },
    {
      "cell_type": "code",
      "source": [
        "# find number of movies done by each actor\n",
        "# movies['Star1'].value_counts()\n",
        "\n",
        "movies.groupby('Star1')['Series_Title'].count().sort_values(ascending=False)"
      ],
      "metadata": {
        "id": "BKzQdPDg3YQ-"
      },
      "execution_count": null,
      "outputs": []
    },
    {
      "cell_type": "code",
      "source": [
        "# GroupBy Attributes and Methods\n",
        "# find total number of groups -> len\n",
        "# find items in each group -> size\n",
        "# first()/last() -> nth item\n",
        "# get_group -> vs filtering\n",
        "# groups\n",
        "# describe\n",
        "# sample\n",
        "# nunique"
      ],
      "metadata": {
        "id": "3etEsUU63mOR"
      },
      "execution_count": null,
      "outputs": []
    },
    {
      "cell_type": "code",
      "source": [
        "len(movies.groupby('Genre'))"
      ],
      "metadata": {
        "id": "MVQqy234O-Xd"
      },
      "execution_count": null,
      "outputs": []
    },
    {
      "cell_type": "code",
      "source": [
        "movies['Genre'].nunique()"
      ],
      "metadata": {
        "id": "9-iQ83awO-kK"
      },
      "execution_count": null,
      "outputs": []
    },
    {
      "cell_type": "code",
      "source": [
        "movies.groupby('Genre').size()"
      ],
      "metadata": {
        "id": "TCRqmIrMO-tc"
      },
      "execution_count": null,
      "outputs": []
    },
    {
      "cell_type": "code",
      "source": [
        "genres = movies.groupby('Genre')\n",
        "# genres.first()\n",
        "# genres.last()\n",
        "genres.nth(6)"
      ],
      "metadata": {
        "id": "EzamsUNXFJAn"
      },
      "execution_count": null,
      "outputs": []
    },
    {
      "cell_type": "code",
      "source": [
        "movies['Genre'].value_counts()"
      ],
      "metadata": {
        "id": "T68QAdkUE8rm"
      },
      "execution_count": null,
      "outputs": []
    },
    {
      "cell_type": "code",
      "source": [
        "genres.get_group('Fantasy')\n",
        "\n",
        "movies[movies['Genre'] == 'Fantasy']"
      ],
      "metadata": {
        "id": "I58tynw5Fv0P"
      },
      "execution_count": null,
      "outputs": []
    },
    {
      "cell_type": "code",
      "source": [
        "genres.groups"
      ],
      "metadata": {
        "id": "0Y2CaRX9GSbj"
      },
      "execution_count": null,
      "outputs": []
    },
    {
      "cell_type": "code",
      "source": [
        "genres.describe()"
      ],
      "metadata": {
        "id": "g3Sy5MPuGSq4"
      },
      "execution_count": null,
      "outputs": []
    },
    {
      "cell_type": "code",
      "source": [
        "genres.sample(2,replace=True)"
      ],
      "metadata": {
        "id": "AiLaylwMGTg2"
      },
      "execution_count": null,
      "outputs": []
    },
    {
      "cell_type": "code",
      "source": [
        "genres.nunique()"
      ],
      "metadata": {
        "id": "ko_cRYChGTnv"
      },
      "execution_count": null,
      "outputs": []
    },
    {
      "cell_type": "code",
      "source": [
        "# agg method\n",
        "# passing dict\n",
        "genres.agg(\n",
        "    {\n",
        "        'Runtime':'mean',\n",
        "        'IMDB_Rating':'mean',\n",
        "        'No_of_Votes':'sum',\n",
        "        'Gross':'sum',\n",
        "        'Metascore':'min'\n",
        "    }\n",
        ")"
      ],
      "metadata": {
        "id": "_NNmeC7kALcE"
      },
      "execution_count": null,
      "outputs": []
    },
    {
      "cell_type": "code",
      "source": [
        "# passing list\n",
        "genres.agg(['min','max','mean','sum'])"
      ],
      "metadata": {
        "id": "59cdCHTJYWiy"
      },
      "execution_count": null,
      "outputs": []
    },
    {
      "cell_type": "code",
      "source": [
        "# Adding both the syntax\n",
        "genres.agg(\n",
        "    {\n",
        "        'Runtime':['min','mean'],\n",
        "        'IMDB_Rating':'mean',\n",
        "        'No_of_Votes':['sum','max'],\n",
        "        'Gross':'sum',\n",
        "        'Metascore':'min'\n",
        "    }\n",
        ")"
      ],
      "metadata": {
        "id": "K6XoU_QWY1KV"
      },
      "execution_count": null,
      "outputs": []
    },
    {
      "cell_type": "code",
      "source": [
        "# looping on groups\n",
        "df = pd.DataFrame(columns=movies.columns)\n",
        "for group,data in genres:\n",
        "  df = df.append(data[data['IMDB_Rating'] == data['IMDB_Rating'].max()])\n",
        "\n",
        "df"
      ],
      "metadata": {
        "id": "2o9u9jCjAN_z"
      },
      "execution_count": null,
      "outputs": []
    },
    {
      "cell_type": "code",
      "source": [
        "# split (apply) combine\n",
        "# apply -> builtin function\n",
        "\n",
        "genres.apply(min)"
      ],
      "metadata": {
        "id": "faavpAILU8eO"
      },
      "execution_count": null,
      "outputs": []
    },
    {
      "cell_type": "code",
      "source": [
        "# find number of movies starting with A for each group\n",
        "\n",
        "def foo(group):\n",
        "  return group['Series_Title'].str.startswith('A').sum()\n"
      ],
      "metadata": {
        "id": "uGZVnFR2lrtW"
      },
      "execution_count": null,
      "outputs": []
    },
    {
      "cell_type": "code",
      "source": [
        "genres.apply(foo)"
      ],
      "metadata": {
        "id": "DtPJElmkNWhO"
      },
      "execution_count": null,
      "outputs": []
    },
    {
      "cell_type": "code",
      "source": [
        "# find ranking of each movie in the group according to IMDB score\n",
        "\n",
        "def rank_movie(group):\n",
        "  group['genre_rank'] = group['IMDB_Rating'].rank(ascending=False)\n",
        "  return group"
      ],
      "metadata": {
        "id": "i0FOAkICj8UF"
      },
      "execution_count": null,
      "outputs": []
    },
    {
      "cell_type": "code",
      "source": [
        "genres.apply(rank_movie)"
      ],
      "metadata": {
        "id": "nc1PVs2vNVZt"
      },
      "execution_count": null,
      "outputs": []
    },
    {
      "cell_type": "code",
      "source": [
        "# find normalized IMDB rating group wise\n",
        "\n",
        "def normal(group):\n",
        "  group['norm_rating'] = (group['IMDB_Rating'] - group['IMDB_Rating'].min())/(group['IMDB_Rating'].max() - group['IMDB_Rating'].min())\n",
        "  return group\n",
        "\n",
        "genres.apply(normal)"
      ],
      "metadata": {
        "id": "RJAv1PCaepT6"
      },
      "execution_count": null,
      "outputs": []
    },
    {
      "cell_type": "code",
      "source": [
        "# groupby on multiple cols\n",
        "duo = movies.groupby(['Director','Star1'])\n",
        "duo\n",
        "# size\n",
        "duo.size()\n",
        "# get_group\n",
        "duo.get_group(('Aamir Khan','Amole Gupte'))"
      ],
      "metadata": {
        "id": "Jeco628BAP2H"
      },
      "execution_count": null,
      "outputs": []
    },
    {
      "cell_type": "code",
      "source": [
        "# find the most earning actor->director combo\n",
        "duo['Gross'].sum().sort_values(ascending=False).head(1)"
      ],
      "metadata": {
        "id": "w9B-IKRz6Khy"
      },
      "execution_count": null,
      "outputs": []
    },
    {
      "cell_type": "code",
      "source": [
        "# find the best(in-terms of metascore(avg)) actor->genre combo\n",
        "movies.groupby(['Star1','Genre'])['Metascore'].mean().reset_index().sort_values('Metascore',ascending=False).head(1)"
      ],
      "metadata": {
        "id": "FrpEvqNznRkw"
      },
      "execution_count": null,
      "outputs": []
    },
    {
      "cell_type": "code",
      "source": [
        "# agg on multiple groupby\n",
        "duo.agg(['min','max','mean'])"
      ],
      "metadata": {
        "id": "1GA5Hv4-573n"
      },
      "execution_count": null,
      "outputs": []
    },
    {
      "cell_type": "markdown",
      "source": [
        "### Excercise"
      ],
      "metadata": {
        "id": "9fROVRdo6Mqe"
      }
    },
    {
      "cell_type": "code",
      "source": [
        "ipl = pd.read_csv('/content/deliveries.csv')\n",
        "ipl.head()"
      ],
      "metadata": {
        "id": "jYqL-7utvIpu"
      },
      "execution_count": null,
      "outputs": []
    },
    {
      "cell_type": "code",
      "source": [
        "ipl.shape"
      ],
      "metadata": {
        "id": "E1YGX66eTt70"
      },
      "execution_count": null,
      "outputs": []
    },
    {
      "cell_type": "code",
      "source": [
        "# find the top 10 batsman in terms of runs\n",
        "ipl.groupby('batsman')['batsman_runs'].sum().sort_values(ascending=False).head(10)"
      ],
      "metadata": {
        "id": "cvckOU0G6OKV"
      },
      "execution_count": null,
      "outputs": []
    },
    {
      "cell_type": "code",
      "source": [
        "# find the batsman with max no of sixes\n",
        "six = ipl[ipl['batsman_runs'] == 6]\n",
        "\n",
        "six.groupby('batsman')['batsman'].count().sort_values(ascending=False).head(1).index[0]"
      ],
      "metadata": {
        "id": "EA9dpd2P6pch"
      },
      "execution_count": null,
      "outputs": []
    },
    {
      "cell_type": "code",
      "source": [
        "# find batsman with most number of 4's and 6's in last 5 overs\n",
        "temp_df = ipl[ipl['over'] > 15]\n",
        "temp_df = temp_df[(temp_df['batsman_runs'] == 4) | (temp_df['batsman_runs'] == 6)]\n",
        "temp_df.groupby('batsman')['batsman'].count().sort_values(ascending=False).head(1).index[0]"
      ],
      "metadata": {
        "id": "PqzGGD_66suJ"
      },
      "execution_count": null,
      "outputs": []
    },
    {
      "cell_type": "code",
      "source": [
        "# find V Kohli's record against all teams\n",
        "temp_df = ipl[ipl['batsman'] == 'V Kohli']\n",
        "\n",
        "temp_df.groupby('bowling_team')['batsman_runs'].sum().reset_index()"
      ],
      "metadata": {
        "id": "NWatDflN6xrl"
      },
      "execution_count": null,
      "outputs": []
    },
    {
      "cell_type": "code",
      "source": [
        "# Create a function that can return the highest score of any batsman\n",
        "temp_df = ipl[ipl['batsman'] == 'V Kohli']\n",
        "temp_df.groupby('match_id')['batsman_runs'].sum().sort_values(ascending=False).head(1).values[0]"
      ],
      "metadata": {
        "id": "7XSqD8uL7yRc"
      },
      "execution_count": null,
      "outputs": []
    },
    {
      "cell_type": "code",
      "source": [
        "def highest(batsman):\n",
        "  temp_df = ipl[ipl['batsman'] == batsman]\n",
        "  return temp_df.groupby('match_id')['batsman_runs'].sum().sort_values(ascending=False).head(1).values[0]\n"
      ],
      "metadata": {
        "id": "TpaccY6bXgg_"
      },
      "execution_count": null,
      "outputs": []
    },
    {
      "cell_type": "code",
      "source": [
        "highest('DA Warner')"
      ],
      "metadata": {
        "id": "Ws2Vo9wEYERh"
      },
      "execution_count": null,
      "outputs": []
    },
    {
      "cell_type": "code",
      "source": [],
      "metadata": {
        "id": "UAXIjjccYGm9"
      },
      "execution_count": null,
      "outputs": []
    }
  ]
}