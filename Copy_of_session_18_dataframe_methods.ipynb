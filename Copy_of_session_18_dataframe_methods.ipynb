{
  "nbformat": 4,
  "nbformat_minor": 0,
  "metadata": {
    "colab": {
      "provenance": []
    },
    "kernelspec": {
      "name": "python3",
      "display_name": "Python 3"
    },
    "language_info": {
      "name": "python"
    }
  },
  "cells": [
    {
      "cell_type": "markdown",
      "source": [
        "### More Important Functions"
      ],
      "metadata": {
        "id": "iIqQU6-kBe78"
      }
    },
    {
      "cell_type": "code",
      "source": [
        "import numpy as np\n",
        "import pandas as pd"
      ],
      "metadata": {
        "id": "iZb918teSfWs"
      },
      "execution_count": 7,
      "outputs": []
    },
    {
      "cell_type": "code",
      "source": [
        "ipl = pd.read_csv('ipl-matches.csv')\n",
        "diabetes = pd.read_csv('diabetes.csv')\n",
        "movies = pd.read_csv('movies.csv')\n",
        "iplbatman = pd.read_csv('batsman_runs_ipl.csv')"
      ],
      "metadata": {
        "id": "rhuluKlkSfO6"
      },
      "execution_count": 9,
      "outputs": []
    },
    {
      "cell_type": "code",
      "source": [
        "# value_counts\n",
        "# sort_values\n",
        "# rank\n",
        "# sort index\n",
        "# set index\n",
        "# rename index -> rename\n",
        "# reset index\n",
        "# unique & nunique\n",
        "# isnull/notnull/hasnans\n",
        "# dropna\n",
        "# fillna\n",
        "# drop_duplicates\n",
        "# drop\n",
        "# applyugew9 tdiwasukj,arcv\n",
        "# isin\n",
        "# corr\n",
        "# nlargest -> nsmallest\n",
        "# insert\n",
        "# copy"
      ],
      "metadata": {
        "id": "zfZByuB2BhlM"
      },
      "execution_count": null,
      "outputs": []
    },
    {
      "cell_type": "code",
      "source": [
        "#value_counts()\n",
        "\n",
        "\n",
        "# find which player has won most POTM\n",
        "\n",
        "ipl[~ipl['MatchNumber'].str.isdigit()][['Player_of_Match']].value_counts()  # it gives the matches which are special(qualifier,semifinal,final) matches and its potm\n",
        "\n",
        "\n",
        "# Toss decision\n",
        "ipl['TossDecision'].value_counts().plot(kind='pie')\n",
        "\n",
        "#how many matches each team has played\n",
        "((ipl['Team1'].value_counts()) + (ipl['Team2'].value_counts())).sort_values(ascending=False) # this thing is possible if the values/datatype of both series mathces\n",
        "\n"
      ],
      "metadata": {
        "id": "i6AjXweeSfLb"
      },
      "execution_count": null,
      "outputs": []
    },
    {
      "cell_type": "code",
      "source": [
        "# sort_values()\n",
        "\n",
        "movies.sort_values('title_x',ascending=False)\n",
        "'''\n",
        " if we apply sort_values() to a null values containing dataframe\n",
        "then the missing/null values goes in last\n",
        "syntax :- students.sort_values('name',na_position='first',ascending=False)\n",
        "'''\n",
        "\n",
        "#arrenging movies by year and by title in ascending order\n",
        "movies.sort_values(['year_of_release','title_x'],ascending=[True,False])"
      ],
      "metadata": {
        "id": "UuG638bxSfH0"
      },
      "execution_count": null,
      "outputs": []
    },
    {
      "cell_type": "code",
      "source": [
        "#rank()  it is applyable only upto series not on dataframe\n",
        "\n",
        "iplbatman['batting_rank']=iplbatman['batsman_run'].rank(ascending=False)\n",
        "iplbatman.sort_values('batting_rank')"
      ],
      "metadata": {
        "id": "uSj8twqxSfAC"
      },
      "execution_count": null,
      "outputs": []
    },
    {
      "cell_type": "code",
      "source": [
        "# sort_index() it is applyable on both series and dataframe\n",
        "'''\n",
        "it is the function which is used to sort the series and dataframe on the basis on index by their name or value ascending or descending\n",
        "'''"
      ],
      "metadata": {
        "id": "Rizxi9wLSe7p"
      },
      "execution_count": null,
      "outputs": []
    },
    {
      "cell_type": "code",
      "source": [
        "#set_index(dataframe)\n",
        "\n",
        "#iplbatman.set_index('batter',inplace=True)\n",
        "iplbatman"
      ],
      "metadata": {
        "id": "HjEbILFRSe4b"
      },
      "execution_count": null,
      "outputs": []
    },
    {
      "cell_type": "code",
      "source": [
        "#reset_index()\n",
        "\n",
        "\n",
        "#iplbatman.reset_index('batter')\n",
        "iplbatman\n",
        "\n",
        "# replace existing index without loosing a column\n",
        "iplbatman.set_index('batting_rank')  #by this we loose a column\n",
        "iplbatman.reset_index().set_index('batting_rank')  #by this we don't loose a column\n",
        "\n",
        "#if we apply this to a series it will give dataframe as output\n",
        "\n"
      ],
      "metadata": {
        "id": "32wElR0USewl"
      },
      "execution_count": null,
      "outputs": []
    },
    {
      "cell_type": "code",
      "source": [
        "#rename(dataframe)\n",
        "\n",
        "#movies.set_index('title_x',inplace=True)\n",
        "#movies\n",
        "movies.rename(columns={'imdb_id':'imdb','poster_path':'link'},inplace=True)\n",
        "movies.rename(index={'Uri: The Surgical Strike':'URI'})"
      ],
      "metadata": {
        "id": "SUlxZwhdSesy"
      },
      "execution_count": null,
      "outputs": []
    },
    {
      "cell_type": "code",
      "source": [
        "# unique(series)\n",
        "\n",
        "temp = pd.Series([1,1,3,3,4,5,3,5,5,6,7,np.nan,np.nan])\n",
        "temp.unique()\n",
        "\n",
        "ipl['Season'].unique()  # it gives unique values not include repeating values\n",
        "ipl['Season'].nunique() # it gives count of unique values and not include missing values in it\n",
        "\n"
      ],
      "metadata": {
        "id": "f8ISy9xfSepC",
        "colab": {
          "base_uri": "https://localhost:8080/"
        },
        "outputId": "504c1573-b275-40bb-b119-49a6bdb6ca61"
      },
      "execution_count": 28,
      "outputs": [
        {
          "output_type": "execute_result",
          "data": {
            "text/plain": [
              "15"
            ]
          },
          "metadata": {},
          "execution_count": 28
        }
      ]
    },
    {
      "cell_type": "code",
      "source": [
        "# isnull(Series + DataFrame)\n",
        "# notnull(Series + dataframe)\n",
        "# hasnans   (only on series)\n",
        "\n",
        "\n",
        "\n",
        "# on series\n",
        "movies['link'][movies['link'].isnull()].shape  # it gives all missing values\n",
        "movies['link'][movies['link'].notnull()].shape  # it gives all not missing values\n",
        "movies['link'].hasnans  # it gives true if there is any missing values else false\n",
        "\n",
        "\n",
        "movies.isnull()\n",
        "movies.notnull()"
      ],
      "metadata": {
        "id": "aOj_v-NQSelS"
      },
      "execution_count": null,
      "outputs": []
    },
    {
      "cell_type": "code",
      "source": [
        "#dropna()  on both\n",
        "\n",
        "movies['link'].dropna() # remove all rows who have missing values\n",
        "movies.dropna()  # remove all rows who have missing values\n",
        "\n",
        "movies.dropna(how='any')  # remove all rows who have missing values\n",
        "movies.dropna(how='all')  # remove all rows who have missing values in all column\n",
        "\n"
      ],
      "metadata": {
        "id": "ZpZuP4LcSehp"
      },
      "execution_count": null,
      "outputs": []
    },
    {
      "cell_type": "code",
      "source": [
        "# fillna() for both series and dataframe\n",
        "movies.fillna(method='ffill')  #ffill is forward fill jo pehle tha value vo hi aayega\n",
        "\n"
      ],
      "metadata": {
        "id": "Btm9Y8cuSed7"
      },
      "execution_count": null,
      "outputs": []
    },
    {
      "cell_type": "code",
      "source": [
        "#drop_duplicates() on both\n",
        "#it to remove duplicate values from series\n",
        "#it removes duplicate rows from dataframe\n",
        "\n"
      ],
      "metadata": {
        "id": "w5_PfYwQSeaS"
      },
      "execution_count": null,
      "outputs": []
    },
    {
      "cell_type": "code",
      "source": [
        "#find the last match played by virat kohli in delhi\n",
        "\n",
        "#ipl['all_players'] = ipl['Team1Players'] + ipl['Team2Players']  #making another column which have all the player from team1 and team2 for each row\n",
        "def did_kohli_play(players_list):\n",
        "  return  'V Kohli' in players_list\n",
        "\n",
        "#ipl['Kohli Plays'] = ipl['all_players'].apply(did_kohli_play)\n",
        "ipl[(ipl['City'] == 'Delhi') & (ipl['Kohli Plays'] == True)].head(1)"
      ],
      "metadata": {
        "id": "VykjWepYSeXK",
        "colab": {
          "base_uri": "https://localhost:8080/",
          "height": 199
        },
        "outputId": "380757c4-30a7-4d59-c528-422e04412f8a"
      },
      "execution_count": 67,
      "outputs": [
        {
          "output_type": "execute_result",
          "data": {
            "text/plain": [
              "          ID   City        Date Season MatchNumber           Team1  \\\n",
              "208  1178421  Delhi  2019-04-28   2019          46  Delhi Capitals   \n",
              "\n",
              "                           Team2                 Venue      TossWinner  \\\n",
              "208  Royal Challengers Bangalore  Arun Jaitley Stadium  Delhi Capitals   \n",
              "\n",
              "    TossDecision  ... WonBy Margin method  Player_of_Match  \\\n",
              "208          bat  ...  Runs   16.0    NaN         S Dhawan   \n",
              "\n",
              "                                          Team1Players  \\\n",
              "208  ['PP Shaw', 'S Dhawan', 'SS Iyer', 'RR Pant', ...   \n",
              "\n",
              "                                          Team2Players       Umpire1  \\\n",
              "208  ['PA Patel', 'V Kohli', 'AB de Villiers', 'S D...  BNJ Oxenford   \n",
              "\n",
              "                   Umpire2                                        all_players  \\\n",
              "208  KN Ananthapadmanabhan  ['PP Shaw', 'S Dhawan', 'SS Iyer', 'RR Pant', ...   \n",
              "\n",
              "    Kohli Plays  \n",
              "208        True  \n",
              "\n",
              "[1 rows x 22 columns]"
            ],
            "text/html": [
              "\n",
              "  <div id=\"df-817253a9-35bb-405d-9bc5-5cc4fe628416\" class=\"colab-df-container\">\n",
              "    <div>\n",
              "<style scoped>\n",
              "    .dataframe tbody tr th:only-of-type {\n",
              "        vertical-align: middle;\n",
              "    }\n",
              "\n",
              "    .dataframe tbody tr th {\n",
              "        vertical-align: top;\n",
              "    }\n",
              "\n",
              "    .dataframe thead th {\n",
              "        text-align: right;\n",
              "    }\n",
              "</style>\n",
              "<table border=\"1\" class=\"dataframe\">\n",
              "  <thead>\n",
              "    <tr style=\"text-align: right;\">\n",
              "      <th></th>\n",
              "      <th>ID</th>\n",
              "      <th>City</th>\n",
              "      <th>Date</th>\n",
              "      <th>Season</th>\n",
              "      <th>MatchNumber</th>\n",
              "      <th>Team1</th>\n",
              "      <th>Team2</th>\n",
              "      <th>Venue</th>\n",
              "      <th>TossWinner</th>\n",
              "      <th>TossDecision</th>\n",
              "      <th>...</th>\n",
              "      <th>WonBy</th>\n",
              "      <th>Margin</th>\n",
              "      <th>method</th>\n",
              "      <th>Player_of_Match</th>\n",
              "      <th>Team1Players</th>\n",
              "      <th>Team2Players</th>\n",
              "      <th>Umpire1</th>\n",
              "      <th>Umpire2</th>\n",
              "      <th>all_players</th>\n",
              "      <th>Kohli Plays</th>\n",
              "    </tr>\n",
              "  </thead>\n",
              "  <tbody>\n",
              "    <tr>\n",
              "      <th>208</th>\n",
              "      <td>1178421</td>\n",
              "      <td>Delhi</td>\n",
              "      <td>2019-04-28</td>\n",
              "      <td>2019</td>\n",
              "      <td>46</td>\n",
              "      <td>Delhi Capitals</td>\n",
              "      <td>Royal Challengers Bangalore</td>\n",
              "      <td>Arun Jaitley Stadium</td>\n",
              "      <td>Delhi Capitals</td>\n",
              "      <td>bat</td>\n",
              "      <td>...</td>\n",
              "      <td>Runs</td>\n",
              "      <td>16.0</td>\n",
              "      <td>NaN</td>\n",
              "      <td>S Dhawan</td>\n",
              "      <td>['PP Shaw', 'S Dhawan', 'SS Iyer', 'RR Pant', ...</td>\n",
              "      <td>['PA Patel', 'V Kohli', 'AB de Villiers', 'S D...</td>\n",
              "      <td>BNJ Oxenford</td>\n",
              "      <td>KN Ananthapadmanabhan</td>\n",
              "      <td>['PP Shaw', 'S Dhawan', 'SS Iyer', 'RR Pant', ...</td>\n",
              "      <td>True</td>\n",
              "    </tr>\n",
              "  </tbody>\n",
              "</table>\n",
              "<p>1 rows × 22 columns</p>\n",
              "</div>\n",
              "    <div class=\"colab-df-buttons\">\n",
              "\n",
              "  <div class=\"colab-df-container\">\n",
              "    <button class=\"colab-df-convert\" onclick=\"convertToInteractive('df-817253a9-35bb-405d-9bc5-5cc4fe628416')\"\n",
              "            title=\"Convert this dataframe to an interactive table.\"\n",
              "            style=\"display:none;\">\n",
              "\n",
              "  <svg xmlns=\"http://www.w3.org/2000/svg\" height=\"24px\" viewBox=\"0 -960 960 960\">\n",
              "    <path d=\"M120-120v-720h720v720H120Zm60-500h600v-160H180v160Zm220 220h160v-160H400v160Zm0 220h160v-160H400v160ZM180-400h160v-160H180v160Zm440 0h160v-160H620v160ZM180-180h160v-160H180v160Zm440 0h160v-160H620v160Z\"/>\n",
              "  </svg>\n",
              "    </button>\n",
              "\n",
              "  <style>\n",
              "    .colab-df-container {\n",
              "      display:flex;\n",
              "      gap: 12px;\n",
              "    }\n",
              "\n",
              "    .colab-df-convert {\n",
              "      background-color: #E8F0FE;\n",
              "      border: none;\n",
              "      border-radius: 50%;\n",
              "      cursor: pointer;\n",
              "      display: none;\n",
              "      fill: #1967D2;\n",
              "      height: 32px;\n",
              "      padding: 0 0 0 0;\n",
              "      width: 32px;\n",
              "    }\n",
              "\n",
              "    .colab-df-convert:hover {\n",
              "      background-color: #E2EBFA;\n",
              "      box-shadow: 0px 1px 2px rgba(60, 64, 67, 0.3), 0px 1px 3px 1px rgba(60, 64, 67, 0.15);\n",
              "      fill: #174EA6;\n",
              "    }\n",
              "\n",
              "    .colab-df-buttons div {\n",
              "      margin-bottom: 4px;\n",
              "    }\n",
              "\n",
              "    [theme=dark] .colab-df-convert {\n",
              "      background-color: #3B4455;\n",
              "      fill: #D2E3FC;\n",
              "    }\n",
              "\n",
              "    [theme=dark] .colab-df-convert:hover {\n",
              "      background-color: #434B5C;\n",
              "      box-shadow: 0px 1px 3px 1px rgba(0, 0, 0, 0.15);\n",
              "      filter: drop-shadow(0px 1px 2px rgba(0, 0, 0, 0.3));\n",
              "      fill: #FFFFFF;\n",
              "    }\n",
              "  </style>\n",
              "\n",
              "    <script>\n",
              "      const buttonEl =\n",
              "        document.querySelector('#df-817253a9-35bb-405d-9bc5-5cc4fe628416 button.colab-df-convert');\n",
              "      buttonEl.style.display =\n",
              "        google.colab.kernel.accessAllowed ? 'block' : 'none';\n",
              "\n",
              "      async function convertToInteractive(key) {\n",
              "        const element = document.querySelector('#df-817253a9-35bb-405d-9bc5-5cc4fe628416');\n",
              "        const dataTable =\n",
              "          await google.colab.kernel.invokeFunction('convertToInteractive',\n",
              "                                                    [key], {});\n",
              "        if (!dataTable) return;\n",
              "\n",
              "        const docLinkHtml = 'Like what you see? Visit the ' +\n",
              "          '<a target=\"_blank\" href=https://colab.research.google.com/notebooks/data_table.ipynb>data table notebook</a>'\n",
              "          + ' to learn more about interactive tables.';\n",
              "        element.innerHTML = '';\n",
              "        dataTable['output_type'] = 'display_data';\n",
              "        await google.colab.output.renderOutput(dataTable, element);\n",
              "        const docLink = document.createElement('div');\n",
              "        docLink.innerHTML = docLinkHtml;\n",
              "        element.appendChild(docLink);\n",
              "      }\n",
              "    </script>\n",
              "  </div>\n",
              "\n",
              "\n",
              "    </div>\n",
              "  </div>\n"
            ],
            "application/vnd.google.colaboratory.intrinsic+json": {
              "type": "dataframe"
            }
          },
          "metadata": {},
          "execution_count": 67
        }
      ]
    },
    {
      "cell_type": "code",
      "source": [],
      "metadata": {
        "id": "yOl3DbZMSeTM"
      },
      "execution_count": null,
      "outputs": []
    },
    {
      "cell_type": "code",
      "source": [],
      "metadata": {
        "id": "Z4UDst1kSePw"
      },
      "execution_count": null,
      "outputs": []
    },
    {
      "cell_type": "code",
      "source": [],
      "metadata": {
        "id": "hYPEmCjUSeL1"
      },
      "execution_count": null,
      "outputs": []
    },
    {
      "cell_type": "code",
      "source": [],
      "metadata": {
        "id": "n8PiRe5ZSeIb"
      },
      "execution_count": null,
      "outputs": []
    },
    {
      "cell_type": "code",
      "source": [],
      "metadata": {
        "id": "XmutDaiNSeFD"
      },
      "execution_count": null,
      "outputs": []
    },
    {
      "cell_type": "code",
      "source": [],
      "metadata": {
        "id": "pMFxnGEpSeBt"
      },
      "execution_count": null,
      "outputs": []
    },
    {
      "cell_type": "code",
      "source": [],
      "metadata": {
        "id": "GlaxTP6ISd-a"
      },
      "execution_count": null,
      "outputs": []
    },
    {
      "cell_type": "code",
      "source": [],
      "metadata": {
        "id": "QbSJig6ASd6r"
      },
      "execution_count": null,
      "outputs": []
    },
    {
      "cell_type": "code",
      "source": [],
      "metadata": {
        "id": "AW7-wMjBSdyq"
      },
      "execution_count": null,
      "outputs": []
    },
    {
      "cell_type": "code",
      "source": [],
      "metadata": {
        "id": "FAibaGf-Sdu9"
      },
      "execution_count": null,
      "outputs": []
    },
    {
      "cell_type": "code",
      "source": [],
      "metadata": {
        "id": "delh-jusSdrk"
      },
      "execution_count": null,
      "outputs": []
    },
    {
      "cell_type": "code",
      "source": [],
      "metadata": {
        "id": "FHNFnxmGSdka"
      },
      "execution_count": null,
      "outputs": []
    }
  ]
}